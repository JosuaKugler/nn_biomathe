{
 "cells": [
  {
   "cell_type": "markdown",
   "metadata": {},
   "source": [
    "## Python Tutorial\n",
    "---"
   ]
  },
  {
   "cell_type": "markdown",
   "metadata": {},
   "source": [
    "### Teil 1: Grundlagen"
   ]
  },
  {
   "cell_type": "code",
   "execution_count": 3,
   "metadata": {},
   "outputs": [],
   "source": [
    "integer=2\n",
    "floats =1.2\n",
    "strings= \"hallo\"\n",
    "liste =[integer,floats,strings,[5,6,7,[10,11,[12]]]]\n",
    "dicts ={\"Namen\":[\"A\",\"B\",\"C\"],1:15, \"liste\":[1,2,3]}\n",
    "sets1 ={1,2,3,4}\n",
    "sets2 ={5,6,3,4}\n",
    "tupel =(1,2,3,4)"
   ]
  },
  {
   "cell_type": "code",
   "execution_count": 32,
   "metadata": {},
   "outputs": [
    {
     "name": "stdout",
     "output_type": "stream",
     "text": [
      "set([3, 4])\n",
      "set([1, 2, 3, 4, 5, 6])\n"
     ]
    }
   ],
   "source": [
    "### wie funktionieren sets\n",
    "#finde Überlagerung\n",
    "intersection = sets1&sets2\n",
    "print intersection\n",
    "overlap = sets1|sets2\n",
    "print overlap"
   ]
  },
  {
   "cell_type": "code",
   "execution_count": 8,
   "metadata": {},
   "outputs": [
    {
     "name": "stdout",
     "output_type": "stream",
     "text": [
      "0 2\n",
      "1 1.2\n",
      "2 hallo\n",
      "3 [5, 6, 7, [10, 11, [12]]]\n",
      "An 1. Stelle steht in der liste 2\n",
      "An 2. Stelle steht in der liste 1.2\n",
      "An 3. Stelle steht in der liste hallo\n",
      "An 4. Stelle steht in der liste [5, 6, 7, [10, 11, [12]]]\n",
      "0 ist kleiner als 5\n",
      "1 ist kleiner als 5\n",
      "2 ist kleiner als 5\n",
      "3 ist kleiner als 5\n",
      "4 ist kleiner als 5\n",
      "x=5\n",
      "6 ist größer als 5\n",
      "7 ist größer als 5\n",
      "8 ist größer als 5\n",
      "9 ist größer als 5\n",
      "10 ist größer als 5\n"
     ]
    }
   ],
   "source": [
    "###Loops\n",
    "#for-loops\n",
    "for i, listenelement in enumerate(liste):\n",
    "    print i, listenelement\n",
    "for a, b in enumerate(liste):\n",
    "    print \"An {}. Stelle steht in der liste: {}\".format(a+1,b)\n",
    "\n",
    "\n",
    "#while-loops\n",
    "#if-Bedingung\n",
    "for x in range(11):\n",
    "    if x>5:\n",
    "        print \"{} ist größer als 5\".format(x)\n",
    "    elif x==5:\n",
    "        print \"x=5\"\n",
    "    else:\n",
    "        print \"{} ist kleiner als 5\".format(x)\n"
   ]
  },
  {
   "cell_type": "code",
   "execution_count": 60,
   "metadata": {},
   "outputs": [
    {
     "name": "stdout",
     "output_type": "stream",
     "text": [
      "[0, 2, 4, 6, 8, 10, 12, 14, 16, 18]\n",
      "[0, 'No', 2, 'No', 4, 'No', 6, 'No', 8, 'No', 10, 'No', 12, 'No', 14, 'No', 16, 'No', 18, 'No', 5]\n",
      "{0: 0, 1: 2, 2: 4, 3: 6, 4: 8, 5: 10, 6: 12, 7: 14, 8: 16, 9: 18}\n"
     ]
    }
   ],
   "source": [
    "#Spass mit listen:)\n",
    "list1 = range(20)\n",
    "list2 = [\"gelb\",\"gruen\",\"rot\",\"list[1]\"]\n",
    "list3 = [1.0,1.1,[1.2,[1.3,[1.4]]]]\n",
    "text2= \"Ich bin Josua\"\n",
    "list4=[x for x in list1 if x%2==0] #If Abfrage am ende\n",
    "list5=[x if x%2==0 else \"No\" for x in list1] #If-Else abfrage vor For\n",
    "print list4\n",
    "list5.append(5)\n",
    "print list5\n",
    "dicts1={i:x for i, x in enumerate(list4)}\n",
    "print dicts1"
   ]
  },
  {
   "cell_type": "code",
   "execution_count": 65,
   "metadata": {},
   "outputs": [
    {
     "name": "stdout",
     "output_type": "stream",
     "text": [
      "[0, 1, 2, 3, 4, 5, 6, 7, 8, 9, 10, 11, 12, 13, 14, 15, 16, 17, 18, 19, 0, 1, 2, 3, 4, 5, 6, 7, 8, 9, 10, 11, 12, 13, 14, 15, 16, 17, 18, 19]\n",
      "[0, 1, 2, 3, 4, 5, 6, 7, 8, 9, 10, 11, 12, 13, 14, 15, 16, 17, 18, 19, 'gelb', 'gruen', 'rot', 'list[1]']\n",
      "Josua\n"
     ]
    }
   ],
   "source": [
    "print 2*list1\n",
    "print list1+list2\n",
    "print text2[8:13] #[start:end]->start....end\n",
    "print dicts.keys()\n",
    "print len(text2),len(list1)"
   ]
  },
  {
   "cell_type": "code",
   "execution_count": 9,
   "metadata": {},
   "outputs": [
    {
     "name": "stdout",
     "output_type": "stream",
     "text": [
      "Blabla karsten Blabla\n",
      "Hallo i bims 1 karsten Blabla\n",
      "Blabla Blabla\n",
      "umumum \n",
      " umummum.\n"
     ]
    }
   ],
   "source": [
    "print \"Blabla %s Blabla\" %\"karsten\"\n",
    "print \"Hallo i bims {} {}\".format(1, \"karsten\")\n",
    "print \"Blabla\", \"Blabla\"\n",
    "print \"umumum \\n umummum.\""
   ]
  },
  {
   "cell_type": "markdown",
   "metadata": {},
   "source": [
    "## Aufgaben"
   ]
  },
  {
   "cell_type": "code",
   "execution_count": 18,
   "metadata": {},
   "outputs": [
    {
     "name": "stdout",
     "output_type": "stream",
     "text": [
      "{'giraffe': 'Ich bin ein/-e giraffe', 'schildkroete': 'Ich bin ein/-e schildkroete', 'affe': 'Ich bin ein/-e affe', 'hund': 'Ich bin ein/-e hund', 'katze': 'Ich bin ein/-e katze'}\n",
      "1: Ich bin ein/-e affe\n",
      "2: Ich bin ein/-e schildkroete\n",
      "3: Ich bin ein/-e hund\n",
      "4: Ich bin ein/-e katze\n",
      "5: Ich bin ein/-e giraffe\n"
     ]
    }
   ],
   "source": [
    "Tiernamen =[\"affe\",\"schildkroete\",\"hund\",\"katze\",\"giraffe\"]\n",
    "ergebnis={i:\"Ich bin ein/-e \" +i for i in Tiernamen}\n",
    "print ergebnis\n",
    "for i, tiername in enumerate(Tiernamen):\n",
    "    print str(i+1)+\": Ich bin ein/-e {}\".format(tiername)"
   ]
  },
  {
   "cell_type": "markdown",
   "metadata": {},
   "source": [
    "### Teil 2: Funktionen"
   ]
  },
  {
   "cell_type": "code",
   "execution_count": 99,
   "metadata": {},
   "outputs": [
    {
     "name": "stdout",
     "output_type": "stream",
     "text": [
      "200\n"
     ]
    }
   ],
   "source": [
    "def meinefunktion(inhalt1, inhalt2):\n",
    "    ininhalthalt =inhalt1*inhalt2\n",
    "    return ininhalthalt\n",
    "print meinefunktion(10,20)"
   ]
  },
  {
   "cell_type": "code",
   "execution_count": 19,
   "metadata": {},
   "outputs": [
    {
     "name": "stdout",
     "output_type": "stream",
     "text": [
      "Zahl12\n",
      "durch 2 teilbar\n",
      "durch 3 teilbar\n"
     ]
    }
   ],
   "source": [
    "def meine_funktion(inhalt1):\n",
    "    if inhalt1%2==0:\n",
    "        print \"durch 2 teilbar\"\n",
    "    if inhalt1%3==0:\n",
    "        print \"durch 3 teilbar\"\n",
    "meine_funktion(input(\"Zahl\"))"
   ]
  },
  {
   "cell_type": "markdown",
   "metadata": {},
   "source": [
    "## Numpy und matplotlib"
   ]
  },
  {
   "cell_type": "code",
   "execution_count": 22,
   "metadata": {},
   "outputs": [
    {
     "name": "stdout",
     "output_type": "stream",
     "text": [
      "[0 1 2 3 4 5 6 7 8 9]\n",
      "[ 0.   0.5  1.   1.5  2.   2.5  3.   3.5  4.   4.5]\n",
      "Matrix:  [[1 2]\n",
      " [3 4]]\n",
      "Vector:  [1 2]\n",
      "Ergebnis\n",
      "[[1 4]\n",
      " [3 8]]\n"
     ]
    }
   ],
   "source": [
    "###Numpy &malplotlib\n",
    "#Numpy\n",
    "import numpy as np\n",
    "\n",
    "print np.arange(10)#<-- entspricht range(10) in standard python!\n",
    "\n",
    "list1= range(10)\n",
    "list1= np.array(list1)\n",
    "print list1/2.\n",
    "list1*list1\n",
    "\n",
    "matrix =np.array([[1,2],[3,4]])\n",
    "vector=np.array([1,2])\n",
    "print\"Matrix: \", matrix\n",
    "print\"Vector: \", vector\n",
    "print\"Ergebnis\"\n",
    "print matrix*vector\n"
   ]
  },
  {
   "cell_type": "code",
   "execution_count": 29,
   "metadata": {},
   "outputs": [
    {
     "name": "stdout",
     "output_type": "stream",
     "text": [
      "[u'seaborn-darkgrid', u'Solarize_Light2', u'seaborn-notebook', u'classic', u'seaborn-ticks', u'grayscale', u'bmh', u'seaborn-talk', u'dark_background', u'ggplot', u'fivethirtyeight', u'_classic_test', u'seaborn-colorblind', u'seaborn-deep', u'seaborn-whitegrid', u'seaborn-bright', u'seaborn-poster', u'seaborn-muted', u'seaborn-paper', u'seaborn-white', u'fast', u'seaborn-pastel', u'seaborn-dark', u'seaborn', u'seaborn-dark-palette']\n",
      "hallo\n"
     ]
    }
   ],
   "source": [
    "#Matplotlib\n",
    "#import numpy as np\n",
    "#import matplotlib.pyplot as plt\n",
    "#plt.style.use()\n",
    "#plt.plot(x,y,\"b\")\n",
    "#plt.title(\"Das ist ein Titel $\\sum_{n=2}^{3} 2^2$!\")\n",
    "#plt.xlabel(\"Das ist meine x-Achse\")\n",
    "#plt.ylabel(\"Das ist meine y-Achse\")\n",
    "#plt.xlim(0,1)\n",
    "#plt.xlim(0,1)\n",
    "\n",
    "#x= np.linspace(0,20,1000)\n",
    "#plt.ylim(0,2)\n",
    "\n",
    "\n",
    "\n",
    "#f, ax =plt.subplots(2,2)\n",
    "#y=np.sin(x)\n",
    "#ax[0,0].plot(x,y,\"g\")\n",
    "#y=np.cos(x)  \n",
    "#ax[0,1].plot(x,y)\n",
    "#y=np.tan(x)\n",
    "#ax[1,0].plot(x,y,\"b\")\n",
    "#ax[0,0]set_xlabel(\"Unterschrift\")\n",
    "#f.suptitle(\"trigonometrische Funktionen\")\n",
    "#plt.show()\n",
    "print(plt.style.available)"
   ]
  },
  {
   "cell_type": "code",
   "execution_count": 85,
   "metadata": {},
   "outputs": [
    {
     "name": "stdout",
     "output_type": "stream",
     "text": [
      "ggplot:\n"
     ]
    },
    {
     "data": {
      "image/png": "[encoded data removed]",
      "text/plain": [
       "<matplotlib.figure.Figure at 0x9100b00>"
      ]
     },
     "metadata": {},
     "output_type": "display_data"
    }
   ],
   "source": [
    "import numpy as np\n",
    "import matplotlib.pyplot as plt\n",
    "y=(x)**2\n",
    "x=np.linspace(0,100,1000)\n",
    "plt.plot(x,y,\"g\",)\n",
    "plt.title(\"Exponentialfunktion\")\n",
    "plt.xlim(0,100)\n",
    "y=(x)**2\n",
    "#ggplot=9\n",
    "a=9\n",
    "plt.style.use(plt.style.available[a])\n",
    "print plt.style.available[a]+\":\"\n",
    "plt.show()"
   ]
  },
  {
   "cell_type": "code",
   "execution_count": 61,
   "metadata": {},
   "outputs": [
    {
     "data": {
      "image/png": "[encoded data removed]",
      "text/plain": [
       "<matplotlib.figure.Figure at 0xaf12e80>"
      ]
     },
     "metadata": {},
     "output_type": "display_data"
    },
    {
     "name": "stdout",
     "output_type": "stream",
     "text": [
      "0.0\n"
     ]
    }
   ],
   "source": [
    "f, ax =plt.subplots(2,3)\n",
    "y=np.sin(x)\n",
    "ax[0,0].plot(x,y)\n",
    "y=np.cos(x)  \n",
    "ax[0,1].plot(x,y)\n",
    "y=np.tan(x)\n",
    "ax[1,0].plot(x,y)\n",
    "y=-1*(np.tan(x))\n",
    "ax[1,1].plot(x,y)\n",
    "y=np.cos(x)/np.sin(x)\n",
    "ax[0,2].plot(x,y)\n",
    "#ax[0,0]set_xlabel(\"Unterschrift\")\n",
    "f.suptitle(\"trigonometrische Funktionen\")\n",
    "plt.show()\n",
    "print np.sin(0)"
   ]
  },
  {
   "cell_type": "markdown",
   "metadata": {},
   "source": [
    "### e-Funktion"
   ]
  },
  {
   "cell_type": "code",
   "execution_count": 97,
   "metadata": {},
   "outputs": [
    {
     "name": "stdout",
     "output_type": "stream",
     "text": [
      "f(x)=a*e^(b*x)+c\n",
      "a=1\n",
      "b=1\n",
      "c=0\n"
     ]
    },
    {
     "data": {
      "image/png": "[encoded data removed]",
      "text/plain": [
       "<matplotlib.figure.Figure at 0xa1b2860>"
      ]
     },
     "metadata": {},
     "output_type": "display_data"
    }
   ],
   "source": [
    "print \"f(x)=a*e^(b*x)+c\"\n",
    "a=input(\"a=\")\n",
    "b=input(\"b=\")\n",
    "c=input(\"c=\")\n",
    "import numpy as np\n",
    "from matplotlib import pyplot as plt\n",
    "plt.xlim(0,5)\n",
    "plt.ylim(0,5)\n",
    "x=np.linspace(-1,10,1000)\n",
    "def efunktion(x):\n",
    "    y=a*2.7181**(b*x)+c\n",
    "    return y\n",
    "plt.plot(x,efunktion(x))\n",
    "plt.show()"
   ]
  }
 ],
 "metadata": {
  "kernelspec": {
   "display_name": "Python 2",
   "language": "python",
   "name": "python2"
  },
  "language_info": {
   "codemirror_mode": {
    "name": "ipython",
    "version": 2
   },
   "file_extension": ".py",
   "mimetype": "text/x-python",
   "name": "python",
   "nbconvert_exporter": "python",
   "pygments_lexer": "ipython2",
   "version": "2.7.14"
  }
 },
 "nbformat": 4,
 "nbformat_minor": 2
}
