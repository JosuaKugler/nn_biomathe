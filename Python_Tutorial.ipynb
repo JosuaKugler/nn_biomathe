{
 "cells": [
  {
   "cell_type": "markdown",
   "metadata": {},
   "source": [
    "# Python Tutorial Teil 1\n",
    "---"
   ]
  },
  {
   "cell_type": "markdown",
   "metadata": {},
   "source": [
    "In diesem Tutorial werden die grundlegendsten Eigenschaften der Programmiersprache Python vorgestellt. Dies ist allerdings weit nicht vollständig - es ist daher sinnvoll, sich nach Durcharbeiten des Tutorials andere Online-Quellen zum Selbststudium zu suchen, z.B.:   \n",
    "<https://www.tutorialspoint.com/python/>   \n",
    "<https://www.learnpython.org/>   \n",
    "<https://snakify.org/>"
   ]
  },
  {
   "cell_type": "markdown",
   "metadata": {},
   "source": [
    "## Datentypen, Grundbefehle, Operatoren und Bibliotheken"
   ]
  },
  {
   "cell_type": "markdown",
   "metadata": {},
   "source": [
    "In diesem Abschnitt befassen wir uns mit den grundlegendsten Eigenschaften der Programmiersprache Python! Dafür sollte man zuerst wissen, dass Python eine Skriptsprache ist - entsprechend immer mit einem eigenen Interpreter einherläuft. Die genauen Details sind irrelevant, aber diese Tatsache erleichtert das Programmieren mit Python massgeblich!"
   ]
  },
  {
   "cell_type": "markdown",
   "metadata": {},
   "source": [
    "Ähnlich zur Mathematik kann man Platzhaltern Eigenschaften zuweisen. Die wichtigste Datentypen dieser Zuweisungen sind:"
   ]
  },
  {
   "cell_type": "code",
   "execution_count": 2,
   "metadata": {},
   "outputs": [
    {
     "name": "stdout",
     "output_type": "stream",
     "text": [
      "Das ist der Variablenwert:  Hallo\n"
     ]
    }
   ],
   "source": [
    "variable1 = 2   #Dies ist eine Ganzzahl (oder Integer, int, auf Englisch).\n",
    "                #Mit dem #-Sonderzeichen lege ich fest, welcher Teil im späteren Verlauf NICHT ausgeführt wird.\n",
    "variable2 = 2.2 #Dies ist eine Gleitkommazahl, d.h. mit Nachkommastelle. 2.0 kann auch als 2. geschrieben werden.\n",
    "variable3 = \"Hallo\" #Mit \"<text>\" deklariert man in Python einen String, d.h. Text\n",
    "variable4 = True    #Oder False, bezeichnen Wahrheitswerte, ähnlich der dt. Zuweisung \"wahr\" bzw. \"falsch\".\n",
    "\n",
    "print \"Das ist der Variablenwert: \", variable3     #Der print-befehl wird verwendet, um Text auszugeben oder den\n",
    "                                                   #Wert von Variablen auszugeben"
   ]
  },
  {
   "cell_type": "markdown",
   "metadata": {},
   "source": [
    "Diese Datentypen kann man mit Grundoperatoren (z.T. bekannt aus der Mathematik) verknüpfen:   \n",
    "Für Zahlen:"
   ]
  },
  {
   "cell_type": "code",
   "execution_count": 4,
   "metadata": {},
   "outputs": [
    {
     "name": "stdout",
     "output_type": "stream",
     "text": [
      "Ausgabe 1:  4\n",
      "Ausgabe 2:  4.0\n",
      "Ausgabe 3:  6.17272727273\n",
      "Ausgabe 4:  8.0\n",
      "Ausgabe 5:  1.0\n"
     ]
    }
   ],
   "source": [
    "print \"Ausgabe 1: \",2*variable1  #Das Ergebnis einer Multiplikation mit 2 Integern ist wieder ein Integer\n",
    "print \"Ausgabe 2: \",2.*variable1 #Ist allerdings ein Element eine Kommazahl, so gilt dies auch für das Ergebnis\n",
    "print \"Ausgabe 3: \",2.*variable2+variable1-0.5/variable2 #Zahlen kann man mit den Standard-Operatoren +,-,*,/ \n",
    "                                                         #verknüpfen\n",
    "print \"Ausgabe 4: \",2.**3       #\"**\" gibt eine Potenz an\n",
    "print \"Ausgabe 5: \",7.%3        #\"%\" ist äquivalent zu 7 mod 3, d.h. der Rest bei einer Teilung durch 3."
   ]
  },
  {
   "cell_type": "markdown",
   "metadata": {},
   "source": [
    "Wem das nicht reicht, der kann sich sogenannter Bibliotheken bedienen: Das sind andere Pythonprogramme, welche von anderen geschrieben wurden und einem das eigene Programmieren abnehmen kann. In unserer Anaconda-Distribution sind dabei schon die wichtigsten Pakete enthalten. Das für uns relevanteste ist **numpy**:"
   ]
  },
  {
   "cell_type": "code",
   "execution_count": 4,
   "metadata": {},
   "outputs": [
    {
     "name": "stdout",
     "output_type": "stream",
     "text": [
      "Wurzel:  2.0\n"
     ]
    }
   ],
   "source": [
    "import numpy as np  #Wir wollen in unser aktuelles Programm diese Bibliothek miteinbeziehen. Dazu importieren wir\n",
    "                    #dieses unter dem Namen \"np\"\n",
    "variable2 = 4\n",
    "print( \"Wurzel: \",np.sqrt(variable2))  #Jetzt können wir auf Funktionen aus dieser Bibliothek mit dem \".\"-Operator zugreifen. In\n",
    "                                     #diesem Fall wurde die Funktion zur Berechnung der Wurzel herangezogen."
   ]
  },
  {
   "cell_type": "markdown",
   "metadata": {},
   "source": [
    "Natürlich bietet **numpy** noch viele andere Funktionen. Auf einige werden wir später noch zu sprechen kommen. Für alle anderen bedient man sich am Besten dem Internet oder der offiziellen Doku unter <https://docs.scipy.org/doc/>.   \n",
    "Auf andere Pakete kommen wir insbesondere im Zweiten Teil zu sprechen."
   ]
  },
  {
   "cell_type": "markdown",
   "metadata": {},
   "source": [
    "---\n"
   ]
  },
  {
   "cell_type": "markdown",
   "metadata": {},
   "source": [
    "## Komplexere Datentypen"
   ]
  },
  {
   "cell_type": "markdown",
   "metadata": {},
   "source": [
    "Die oben vorgestellten Datentypen repräsentieren natürlich nicht alle Möglichkeiten, Information zu encodieren. Für das spätere Arbeiten sind vor allem folgende von großer Relevanz für uns:"
   ]
  },
  {
   "cell_type": "code",
   "execution_count": 7,
   "metadata": {},
   "outputs": [],
   "source": [
    "# Dictionaries\n",
    "dicts = {\"Kaufhaeuser\":[\"Galeria\", \"Karstadt\"], \"Zahl\":2, \"Variable\":variable1, 5:\"text\"}\n",
    "# Listen\n",
    "liste = [2,3,4,\"hi\",[5,6]]\n",
    "# Tupel\n",
    "tupel = (1,2,3,\"Hello\",(\"Tupel\",\"im\",\"Tupel\"))"
   ]
  },
  {
   "cell_type": "markdown",
   "metadata": {},
   "source": [
    "Diese Typen erlauben es uns, Variablen und Informationen gesammelt abzulegen.   "
   ]
  },
  {
   "cell_type": "markdown",
   "metadata": {},
   "source": [
    "---"
   ]
  },
  {
   "cell_type": "markdown",
   "metadata": {},
   "source": [
    "**Dictionaries**, oder Wörterbücher, werden mit geschweiften Klammern **{}** deklariert. In den Klammern findet sich dann der Index (z.B. \"Kaufhaeuser\"), mit welchem auf die nach dem **:**-Operator stehende Information (hier eine Liste) zugegriffen werden kann. Dieser Index funktionert also ähnlich einem Wörterbuchverzeichniseintrag, und erlaubt es uns wie folgt an die Information heranzukommen:"
   ]
  },
  {
   "cell_type": "code",
   "execution_count": 10,
   "metadata": {},
   "outputs": [
    {
     "name": "stdout",
     "output_type": "stream",
     "text": [
      "Eintrag:  ['Galeria', 'Karstadt']\n"
     ]
    }
   ],
   "source": [
    "print \"Eintrag: \", dicts[\"Kaufhaeuser\"]"
   ]
  },
  {
   "cell_type": "markdown",
   "metadata": {},
   "source": [
    "Das Tolle: Man kann als Iindex Strings, aber auch Zahlen o.ä. verwenden!"
   ]
  },
  {
   "cell_type": "markdown",
   "metadata": {},
   "source": [
    "---"
   ]
  },
  {
   "cell_type": "markdown",
   "metadata": {},
   "source": [
    "**Listen** hingegen haben als Index lediglich die Position des Eintrags, funktionieren aber sonst ähnlich wie Dictionaries, mit dem Unterschied das sie mit **[]** generiert werden. In unserem obigen Beispiel kann man daher nur wie folgt z.B. auf \"hi\" zugreifen:"
   ]
  },
  {
   "cell_type": "code",
   "execution_count": 12,
   "metadata": {},
   "outputs": [
    {
     "name": "stdout",
     "output_type": "stream",
     "text": [
      "Eintrag:  hi\n"
     ]
    }
   ],
   "source": [
    "print \"Eintrag: \",liste[3]"
   ]
  },
  {
   "cell_type": "markdown",
   "metadata": {},
   "source": [
    "**Wichtig**: Die Nummerierung beginnt in Python mit 0 und nicht mit 1!"
   ]
  },
  {
   "cell_type": "markdown",
   "metadata": {},
   "source": [
    "Listen bieten aber noch viele \"angenehme\" Vorteile:"
   ]
  },
  {
   "cell_type": "code",
   "execution_count": 16,
   "metadata": {},
   "outputs": [
    {
     "name": "stdout",
     "output_type": "stream",
     "text": [
      "Neue Liste:  [2, 3, 4, 'hi', [5, 6], 'neues Element']\n",
      "Doppelte Liste:  [2, 3, 4, 'hi', [5, 6], 'neues Element', 2, 3, 4, 'hi', [5, 6], 'neues Element']\n"
     ]
    }
   ],
   "source": [
    "#Daten hinzulegen:\n",
    "liste.append(\"neues Element\")\n",
    "print \"Neue Liste: \",liste\n",
    "\n",
    "#Listen vervielfältigen:\n",
    "print \"Doppelte Liste: \",2*liste"
   ]
  },
  {
   "cell_type": "markdown",
   "metadata": {},
   "source": [
    "Leider kann man keine mathematischen Operation auf eine Liste ausüben (im Sinne eines Vektors). Um das zu tun, müssen wir die Liste in ein neues Objekt umwandeln, welches solche Operationen erlaubt: das **numpy-array**:"
   ]
  },
  {
   "cell_type": "code",
   "execution_count": 34,
   "metadata": {},
   "outputs": [
    {
     "name": "stdout",
     "output_type": "stream",
     "text": [
      "Np-Array:  [  3.5   5.5   9.5  17.5  33.5]\n"
     ]
    }
   ],
   "source": [
    "Zahlenliste = [1,2,3,4,5]\n",
    "nparray     = np.array(Zahlenliste)\n",
    "\n",
    "print \"Np-Array: \",2.**nparray+1.5"
   ]
  },
  {
   "cell_type": "markdown",
   "metadata": {},
   "source": [
    "Die Indizierung funktionert dabei immer noch (fast) analog zu Listen. Unterschiede werden deutlich, wenn das Array mehrdimensional wird, dazu mehr aber im zweiten Teil."
   ]
  },
  {
   "cell_type": "markdown",
   "metadata": {},
   "source": [
    "Für mehr Eigenschaften zu Listen allgemein verweise ich hier, ähnlich **numpy**, auf eine Dokumentation: <https://www.tutorialspoint.com/python/python_lists.htm>"
   ]
  },
  {
   "cell_type": "markdown",
   "metadata": {},
   "source": [
    "---"
   ]
  },
  {
   "cell_type": "markdown",
   "metadata": {},
   "source": [
    "**Tupel** zu guter Letzt sind sehr ähnlich wie Listen, mit dem Unterschied, da sie in ihrer Größe fix sind! D.h. Multiplizieren oder Anhängen funktioniert nicht! Sie werden insbesondere später bei der Indizierung sog. Arrays relevant."
   ]
  },
  {
   "cell_type": "markdown",
   "metadata": {},
   "source": [
    "---"
   ]
  },
  {
   "cell_type": "markdown",
   "metadata": {},
   "source": [
    "## Schleifen, if-Abfragen und Funktionen"
   ]
  },
  {
   "cell_type": "markdown",
   "metadata": {},
   "source": [
    "Programmieren soll Arbeit erleichtern, insbesondere repetitive Ausführungen. Dafür bietet Python, wie jeder andere Programmiersprache, Schleifen:"
   ]
  },
  {
   "cell_type": "code",
   "execution_count": 4,
   "metadata": {},
   "outputs": [
    {
     "name": "stdout",
     "output_type": "stream",
     "text": [
      "Iterationsnummer des for-loops: 0\n",
      "Iterationsnummer des for-loops: 1\n",
      "Iterationsnummer des for-loops: 2\n",
      "---\n",
      "0 Auto\n",
      "1 Schiff\n",
      "2 Hund\n",
      "3 Affe\n",
      "---\n",
      "Bedingung nicht erfüllt.\n",
      "While-Schleife: Variable hat Wert 2!\n",
      "Bedingung erfüllt!\n"
     ]
    }
   ],
   "source": [
    "#For-Schleifen: Führe etwas \"n\"-mal aus:\n",
    "n=3\n",
    "for schleifenindex in xrange(n):\n",
    "    print \"Iterationsnummer des for-loops:\", schleifenindex\n",
    "    \n",
    "print \"---\"\n",
    "\n",
    "#For-Schleife mit Nummerierung wenn man über komplexere Listen iteriert und man gleichzeitig die Position will:\n",
    "testliste = [\"Auto\",\"Schiff\",\"Hund\",\"Affe\"]\n",
    "for index,element in enumerate(testliste):\n",
    "    print index,element\n",
    "\n",
    "print \"---\"\n",
    "\n",
    "#While-Schleifen: Führe etwas aus, bis eine Bedingung erfüllt (nicht erfüllt) ist:\n",
    "bedingung=True\n",
    "iterationsvariable=0\n",
    "while bedingung:\n",
    "    iterationsvariable += 1 #Addiert 1 auf \"iterationsvariable\" in jeder Iteration\n",
    "    # If-Abfrage: Checkt ob eine Bedingung erfüllt ist:\n",
    "    if iterationsvariable == 3:\n",
    "        print \"Bedingung erfüllt!\"\n",
    "        bedingung=False\n",
    "    elif iterationsvariable==2:\n",
    "        print \"While-Schleife: Variable hat Wert 2!\"\n",
    "    else:\n",
    "        print \"Bedingung nicht erfüllt.\"\n",
    "        "
   ]
  },
  {
   "cell_type": "markdown",
   "metadata": {},
   "source": [
    "**Randnotiz**: Das Einzigartige in Python ist nun, dass man Schleifen in einer Zeile schreiben kann, wenn man Listen, Tupel oder Dicts generieren möchte:"
   ]
  },
  {
   "cell_type": "code",
   "execution_count": 2,
   "metadata": {
    "collapsed": true
   },
   "outputs": [],
   "source": [
    "generator_liste = [x for x in xrange(10)] #Liste mit Elementen von 0...9\n",
    "generator_dict  = {x:x^2 for x in xrange(10)} #Dict mit Indices 0...9 und Inhalt jeweils das Quadrat der indices\n",
    "generator_tupel = (x for x in xrange(10)) #Tupel mit Elementon von 0...9"
   ]
  },
  {
   "cell_type": "markdown",
   "metadata": {},
   "source": [
    "---"
   ]
  },
  {
   "cell_type": "markdown",
   "metadata": {},
   "source": [
    "Neben Schleifen sind in Python besonders Funktionen wichtig, welche einen Programmabschnitt unter verschiedenen Bedingungen ausführen können:"
   ]
  },
  {
   "cell_type": "code",
   "execution_count": 24,
   "metadata": {},
   "outputs": [
    {
     "name": "stdout",
     "output_type": "stream",
     "text": [
      "Info\n",
      "Ergebnis:  0\n",
      "Info\n",
      "Ergebnis:  2\n",
      "Info\n",
      "Ergebnis:  6\n"
     ]
    }
   ],
   "source": [
    "#Dies ist eine Funktion:\n",
    "def funktionsname(x,y,sonstige_parameter=\"Info\"): #bei \"sonstige_parameter\" wurde ein Anfangswert vorgegeben.\n",
    "                                                  #Die Funktion kann dann ausgeführt werden, ohne das ihr dieser Wert\n",
    "                                                  #übergeben wird.\n",
    "    print sonstige_parameter\n",
    "    return x*y                                    #gibt etwas zurück, was einer Variable zugewiesen werden kann.\n",
    "    \n",
    "for i in xrange(3):\n",
    "    output = funktionsname(i,i+1)\n",
    "    print \"Ergebnis: \",output\n",
    "    "
   ]
  },
  {
   "cell_type": "markdown",
   "metadata": {},
   "source": [
    "In diese Funktion kann man nun beliebige Python-Miniprogramme stecken und unter verschiedenen Bedingungen neu ausführen."
   ]
  },
  {
   "cell_type": "markdown",
   "metadata": {},
   "source": [
    "---"
   ]
  },
  {
   "cell_type": "markdown",
   "metadata": {},
   "source": [
    "## Spielen mit Strings und Print"
   ]
  },
  {
   "cell_type": "markdown",
   "metadata": {},
   "source": [
    "Für Strings gelten Listen- und Zahlenoperatoren!"
   ]
  },
  {
   "cell_type": "code",
   "execution_count": 29,
   "metadata": {},
   "outputs": [
    {
     "name": "stdout",
     "output_type": "stream",
     "text": [
      "Hallo Hallo neuer Text mit Zeilenumbruch \n",
      "Neue Zeile\n",
      "Kombination:  fEIGE\n"
     ]
    }
   ],
   "source": [
    "print \"Hallo \"*2+\"neuer Text mit Zeilenumbruch \\nNeue Zeile\"\n",
    "string = \"AbCdEfGhIjK\"\n",
    "print \"Kombination: \",string[5]+string[4]+string[8]+string[6]+string[4]"
   ]
  },
  {
   "cell_type": "code",
   "execution_count": 31,
   "metadata": {},
   "outputs": [
    {
     "name": "stdout",
     "output_type": "stream",
     "text": [
      "Hier ist ein Text mit Namen Textname und Anzahl an Seiten 200.\n"
     ]
    }
   ],
   "source": [
    "### print-Befehl erweitern mit .format - dies erlaubt es uns, schönere Print-Ausgaben zu erzeugen:\n",
    "print \"Hier ist ein Text mit Namen {} und Anzahl an Seiten {}.\".format(\"Textname\",200)"
   ]
  },
  {
   "cell_type": "markdown",
   "metadata": {},
   "source": [
    "---"
   ]
  },
  {
   "cell_type": "markdown",
   "metadata": {},
   "source": [
    "## Plotten"
   ]
  },
  {
   "cell_type": "markdown",
   "metadata": {},
   "source": [
    "Zahlen und Texte sind immer nur dann gut, wenn sie von guten, aussagekräftigen Bildern/Graphen (Plots) begleitet werden. Um diese zu erstellen, müssen wir uns einer neuen Bibliothek bedienen: **matplotlib**:"
   ]
  },
  {
   "cell_type": "code",
   "execution_count": 8,
   "metadata": {},
   "outputs": [
    {
     "name": "stdout",
     "output_type": "stream",
     "text": [
      "Die ersten 3 Elemente von X-Vektor:  [0.  0.1 0.2]\n",
      "Die ersten 3 Elemente von Y-Vektor:  [0.         0.09983342 0.19866933]\n"
     ]
    },
    {
     "data": {
      "image/png": "[encoded data removed]",
      "text/plain": [
       "<Figure size 432x288 with 1 Axes>"
      ]
     },
     "metadata": {
      "needs_background": "light"
     },
     "output_type": "display_data"
    }
   ],
   "source": [
    "import matplotlib.pyplot as plt ### matplotlib enthält, wie numpy auch, eine ganz Reihe von Klassen (mehr in Teil 2).\n",
    "                                ### Für uns relevant ist die \"pyplot\"-Klasse, welcher wir uns hier bedienen.\n",
    "    \n",
    "xvektor = np.arange(0,10,0.1)   #np.arange() generiert mir ein np.array mit Elementen von 0 bis 10 in 0.1-Inkrementen\n",
    "print(\"Die ersten 3 Elemente von X-Vektor: \", xvektor[0:3])\n",
    "yvektor = np.sin(xvektor)\n",
    "print(\"Die ersten 3 Elemente von Y-Vektor: \", yvektor[0:3])\n",
    "\n",
    "### Wir wollen nun wie bei normalen Graphen x gegen y auftragen:\n",
    "plt.plot(xvektor, yvektor,\"r--\")   #der \"r--\"-Befehlt sagt: Rote gestrichelte Linie bitte!\n",
    "plt.xlabel(\"x-Achse\")\n",
    "plt.ylabel(\"y-Achse\")\n",
    "plt.title(\"Title des Graphen\")\n",
    "plt.show()                         #Graphen anzeigen"
   ]
  },
  {
   "cell_type": "markdown",
   "metadata": {},
   "source": [
    "Auch hier: Für mehr Details der Link zur (wirklich guten, beispielreichen) Dokumentation: <https://matplotlib.org/> "
   ]
  },
  {
   "cell_type": "markdown",
   "metadata": {},
   "source": [
    "---\n"
   ]
  },
  {
   "cell_type": "markdown",
   "metadata": {},
   "source": [
    "# Aufgaben"
   ]
  },
  {
   "cell_type": "markdown",
   "metadata": {},
   "source": [
    "Der Schlüssel zum Beherrschen jeder Sprache ist ständiges Üben und Wiederholen. Lösung zu allen Aufgaben finden sich sicher irgendwo im Internet, aber das Ziel sollte es sein, zu verstehen. Wenn es euch hilft, die Lösung zu sehen, dann soll das natürlich nicht verboten sein :). Daher ist es sehr sinnvoll, folgende Aufgaben durchzugehen (gerne auch andere, z.B. aus dem Internet):"
   ]
  },
  {
   "cell_type": "markdown",
   "metadata": {},
   "source": [
    "---"
   ]
  },
  {
   "cell_type": "markdown",
   "metadata": {},
   "source": [
    "### Aufgabe 1:"
   ]
  },
  {
   "cell_type": "markdown",
   "metadata": {},
   "source": [
    "Schreibe eine Funktion welcher ich zwei Zahlen und einen String gebe, und diese mir die Zahlen addiert/subtrahiert (entsprechend dem String-Input) und herausfindet ob es eine Primzahl ist.\n"
   ]
  },
  {
   "cell_type": "markdown",
   "metadata": {},
   "source": [
    "### Aufgabe 2:"
   ]
  },
  {
   "cell_type": "markdown",
   "metadata": {},
   "source": [
    "Generiere 4 Unterplots in einem Plot mit Funktionen deiner Wahl. Hilfreich hierzu: <https://matplotlib.org/examples/pylab_examples/subplots_demo.html>"
   ]
  },
  {
   "cell_type": "markdown",
   "metadata": {},
   "source": [
    "### Aufgabe 3:"
   ]
  },
  {
   "cell_type": "markdown",
   "metadata": {},
   "source": [
    "Ladet ein Bild eurer Wahl runter und lasst es euch in Python anzeigen! Lasst euch dabei gerne vom Internet helfen, da einige Funktionen hierfür nicht in diesem Tutorial vorgestellt wurden!"
   ]
  },
  {
   "cell_type": "markdown",
   "metadata": {},
   "source": [
    "### Aufgabe 4:"
   ]
  },
  {
   "cell_type": "markdown",
   "metadata": {},
   "source": [
    "Schreibt ein kleines, interessantes Programm eurer Wahl, welches nicht schon Teil vorheriger Lösungen war!"
   ]
  }
 ],
 "metadata": {
  "anaconda-cloud": {},
  "kernelspec": {
   "display_name": "Python 3",
   "language": "python",
   "name": "python3"
  },
  "language_info": {
   "codemirror_mode": {
    "name": "ipython",
    "version": 3
   },
   "file_extension": ".py",
   "mimetype": "text/x-python",
   "name": "python",
   "nbconvert_exporter": "python",
   "pygments_lexer": "ipython3",
   "version": "3.7.0"
  }
 },
 "nbformat": 4,
 "nbformat_minor": 1
}
