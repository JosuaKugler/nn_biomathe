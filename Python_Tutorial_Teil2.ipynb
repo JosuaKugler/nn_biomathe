{
 "cells": [
  {
   "cell_type": "markdown",
   "metadata": {},
   "source": [
    "# Python Tutorial - Teil 2/2 \n",
    "\n",
    "## Mit einer Einführung in Lineare Algebra\n",
    "---"
   ]
  },
  {
   "cell_type": "markdown",
   "metadata": {},
   "source": [
    "In diesem zweiten Teil des Tutorials setzen wir uns tiefergehend mit **numpy**-Strukturen auseinander, lernen Daten richtig einzulesen und führen für uns relevante Lineare Algebra ein, diese essentiell für das Arbeiten mit neuronalen Netzwerken ist."
   ]
  },
  {
   "cell_type": "markdown",
   "metadata": {},
   "source": [
    "---"
   ]
  },
  {
   "cell_type": "markdown",
   "metadata": {},
   "source": [
    "## 1. Lineare Algebra - Grundlagen"
   ]
  },
  {
   "cell_type": "markdown",
   "metadata": {},
   "source": [
    "Die lineare Algebra stellt eine allgemeine Beschreibung linearer Abbildungen dar. Mit letzteren ist man vermutlich schon aus der Schulmathematik vertraut:   \n",
    "\n",
    "So stellt eine Funktion $f$ mit $f(x) = 7x+5$ eine lineare Abbildung dar (von $x$ aus dem Bereich der reelen Zahlen in den Bereich der reelen Zahlen). Eine Funktion aber wie $f(x) = x^2$ ist nicht linear.   \n",
    "   \n",
    "Nun arbeitet man in der Schule in solchen Fällen gerne mit Skalaren (natürliche, rationale und reelle Zahlen zum Beispiel). Unser obiges $f$ würde in solchen Fällen Werte wie $x=5$ auf $f(5)=40$ projezieren.   \n",
    "\n",
    "Skalar sind, in vereinfachter Betrachtung, aber nur ein-dimensionale Vektoren. Das Äquivalent der Funktion $f$ für vektorielle, lineare Abbildungen stellen nun sogenannte Matrizen.\n",
    "\n",
    "   \n",
    "### 1.1 Matrizen\n",
    "Eine Matrix ist formell nichts weiter als die Weiterführung der linearen Abbildung im Skalarraum auf Vektorräume (wie die Menge der natürlichen Zahlen Skalare enthält, so sind die Elemente eines Vektorraums die Vektoren).   \n",
    "\n",
    "Sie erlauben es uns, lineare Projektionen auf Vektoren auszuführen, d.h. sie zu strecken, rotieren u.ä.. Gleichzeitig ist es damit möglich zu beschreiben, wie einzelne Elemente eines Vektores mit anderen zusammenhängen können.   \n",
    "   \n",
    "---\n",
    "*Ein Beispiel:*   \n",
    "Gegeben sei der Vektor $\\textbf{x}=\\begin{pmatrix} a\\\\b\\\\c \\end{pmatrix}$, welcher die Fähigkeit einer Person kategorisieren soll, schnell zu laufen:   \n",
    "*a=maximale Schrittweite, b=maximale Schrittfrequenz, c=Belastbarkeit*   \n",
    "   \n",
    "Damit wollen wir: die Zeit auf 100m ($t_1$), 1000m ($t_2$) und 5000m ($t_3$) herausfinden. Nun haben Sportwissenschaftler (a.d.R.: frei erfunden natürlich) entdeckt, dass diese wie folgt mit den persönlichen Eigenschaften zusammenhängen:   \n",
    "   \n",
    "1. $t_1=2\\cdot a+4.5\\cdot b + 0.1\\cdot c$   \n",
    "2. $t_2=3\\cdot a+1.5\\cdot b + 2.5\\cdot c$   \n",
    "3. $t_2=3.5\\cdot a+1.25\\cdot b + 7.5\\cdot c$      \n",
    "\n",
    "\n",
    "Diese Abbildung der Laufeigenschaften einer Person, da wir hier nur lineare Zusammenhänge haben, lässt sich wunderbar mit einer Matrix-Operation beschreiben:   \n",
    "\n",
    "<p style=\"text-align: center;\">\n",
    "$\\textbf{t} = \\begin{pmatrix} t_1\\\\t_2\\\\t_3 \\end{pmatrix} = \\begin{pmatrix} 2&4.5&0.1\\\\3&1.5&2.5\\\\3.5&1.25&7.5 \\end{pmatrix}\\cdot \\begin{pmatrix} a\\\\b\\\\c \\end{pmatrix}$   \n",
    "</p>\n",
    "\n",
    "---\n",
    "\n",
    "Die genaue Umsetzung mag dadurch hier noch nicht klar hervorgehen, daher werden wir die Vektor-Matrixmultiplikation (neben anderen Operation) nun auch formell einführen.   \n",
    "\n",
    "   \n",
    "### 1.2 Matrix-Operationen\n",
    "\n",
    "#### 1.2.1 Allgemeine Matrix- und Vektornotation\n",
    "Bevor wir uns allgemeinen Operationen widmen, ist es wichtig, das wir definieren, wie wir Vektoren und Matrizen darstellen können. Dafür führen wir ein:   \n",
    "   \n",
    "Für $n$-dimensionale Vektoren:   \n",
    "   \n",
    "<p style=\"text-align: center;\"> $\\textbf{v} = \\begin{pmatrix} v_1\\\\\\vdots\\\\v_n \\end{pmatrix} = [v_1,...,v_n]^T$ </p>\n",
    "   \n",
    "mit der Transponierung $T$ (siehe unten), welche die Spalten- und Zeilenschreibweise (mittlerer bzw. letzer Gleichungsterm) zueinander bezieht. Je nach dem, aus welchen Zahlenmengen sich die Elemente des $n$-dimensionalen Vektors zusammensetzen, kann mach dann auch schreiben:   \n",
    "$\\textbf{v} \\in {\\rm I\\!R}^{n\\times 1}$ für Spalten- und $\\textbf{v} \\in {\\rm I\\!R}^{1\\times n}$ für Zeilenvektoren. Für alleinstehende Vektoren ist die Wahl irrelevant, spielt aber dann eine Rolle wenn Matrizen mit ins Spiel kommen.\n",
    "   \n",
    "Für $n\\times m$-dimensionale Matrizen $\\textbf{A} \\in {\\rm I\\!R}^{n\\times m}$ (also $n$ Zeilen und $m$ Spalten):   \n",
    "\n",
    "<p style=\"text-align: center;\"> $\\textbf{A} =  \\begin{pmatrix} a_{11}&\\cdots&a_{1m}\\\\\\vdots&\\ddots&\\vdots\\\\a_{n1}&\\ddots&a_{nm} \\end{pmatrix} = \\{A_{ij}\\}_{n,m}$ </p>   \n",
    "   \n",
    "Für höher-dimensionale Matrizen ist die mittlere Darstellung nur noch mäßig möglich, sodass wir uns an der abstrakten Notation $\\{A_{i,j,\\cdots}\\}_{n,m,\\cdots}$ orientieren müssen, um die einzelnen Elemente einer solchen Matrix zu beschreiben.\n",
    "\n",
    "#### 1.2.1 Transponieren\n",
    "Für Vektoren wurde der Effekt des Transponieren deutlich: Wir legen einen Vektor \"flach\" bzw. \"senkrecht\", sprich wir transformieren von $n\\times 1$ zu $1\\times n$ und umgekehrt.   \n",
    "   \n",
    "Für Matrizen gilt das Gleiche: Im zweidimensionalen Raum wird aus $\\textbf{A}\\in{\\rm I\\!R}^{n\\times m} \\rightarrow \\textbf{A}^T\\in{\\rm I\\!R}^{m\\times n}$, also:   \n",
    "\n",
    "<p style=\"text-align: center;\"> $\\begin{pmatrix} a_{11}&\\cdots&a_{1m}\\\\\\vdots&\\ddots&\\vdots\\\\a_{n1}&\\ddots&a_{nm} \\end{pmatrix}^T = \\begin{pmatrix} a_{11}&\\cdots&a_{1n}\\\\\\vdots&\\ddots&\\vdots\\\\a_{m1}&\\ddots&a_{mn} \\end{pmatrix}$ </p>\n",
    "\n",
    "#### 1.2.3 Matrix-Vektor-Multiplikation\n",
    "Für eine Matrix $\\textbf{A}\\in{\\rm I\\!R}^{m\\times n}$ und einen Vektor $\\textbf{v}\\in{\\rm I\\!R}^{n\\times 1}$ ist das Produkt wieder ein Vektor $\\textbf{w}\\in{\\rm I\\!R}^{m\\times 1}$, mit $\\textbf{w} = \\textbf{A}\\cdot \\textbf{v}$ bzw. für die einzelnen Elemente:   \n",
    "   \n",
    "<p style=\"text-align: center;\"> $w_i = \\sum_{j}^n A_{ij}v_j$ </p>\n",
    "   \n",
    "---\n",
    "\n",
    "*Ein Beispiel*:   \n",
    "Seien $\\textbf{v} = [v_1 v_2]^T$ und $\\textbf{A}=\\begin{pmatrix} 1&2\\\\3&4 \\end{pmatrix}$. Dann ist:\n",
    "\n",
    "<p style=\"text-align: center;\">\n",
    "$\\textbf{w} = \\textbf{A}\\cdot \\textbf{v} = \\begin{pmatrix} 1&2\\\\3&4 \\end{pmatrix}\\cdot \\begin{pmatrix}v_1\\\\v_2\\end{pmatrix} = \\begin{pmatrix}1\\cdot v_1+2\\cdot v_2\\\\3\\cdot v_1+4\\cdot v_2\\end{pmatrix}$\n",
    "</p>\n",
    "\n",
    "---\n",
    "\n",
    "Man bemerke das die Anzahl der Zeilen des zu multiplizierenden Vektors der Anzahl der zu multiplizierenden Matrix entsprechen muss, da ansonsten die Multiplikation nicht definiert. In vielen Fällen reicht das Transponieren einiger der Komponenten aus, um eine solche Multiplikation zu ermöglichen (ermöglichen $\\neq$ sinnvoll/korrekt).   \n",
    "   \n",
    "Zudem ist die Multiplikation einer Matrix mit einem Vektor stets wieder ein Vektor!\n",
    "\n",
    "#### 1.2.4 Vektor-Vektor-Multiplikation: Das Skalarprodukt\n",
    "Die Multiplikation zweier Vektoren kann folgende Formen annehmen:   \n",
    "Sei $\\textbf{v}\\in{\\rm I\\!R}^{n\\times 1}$. Dann definieren   \n",
    "\n",
    "1. $\\textbf{v}^T\\textbf{v}=\\sum_i^n v_i^2 = s$ das bekannte Skalarprodukt und  \n",
    "   \n",
    "2. $\\textbf{v}\\textbf{v}^T=\\textbf{A}\\in{\\rm I\\!R}^{n\\times n}$ das äußere Produkt,   \n",
    "\n",
    "wobei letzteres für uns nicht zwingend relevant ist.\n",
    "\n",
    "#### 1.2.5 Matrix-Matrix-Multiplikation\n",
    "\n",
    "Zum Abschluss die Königsdisziplin: Die Multiplikation zweier Matrizen, $\\textbf{A}\\in{\\rm I\\!R}^{n\\times m}$ und $\\textbf{B}\\in{\\rm I\\!R}^{m\\times p}$, zu $\\textbf{A}\\cdot\\textbf{B} = \\textbf{C}$ mit $\\textbf{C}\\in{\\rm I\\!R}^{n\\times p}$.   \n",
    "   \n",
    "Die allgemeine Formulierung sieht wie folgt aus:   \n",
    "<p style=\"text-align: center;\">\n",
    "$\\textbf{C}_{ij} = \\sum_{k}^m \\textbf{A}_{ik}\\textbf{B}_{kj}$\n",
    "</p>\n",
    "   \n",
    "Natürlich, um sich ein besseres Bild davon zu machen, hier wieder ein Beispiel:   \n",
    "\n",
    "---\n",
    "\n",
    "*Beispiel*:   \n",
    "\n",
    "Seien $\\textbf{A} = \\begin{pmatrix} a_{11}=1&a_{12}=0\\\\a_{21}=0&a_{22}=3\\\\a_{31}=2&a_{32}=2 \\end{pmatrix}$ und $\\textbf{B} = \\begin{pmatrix} b_{11}=4&b_{12}=-1&b_{13}=1.5\\\\b_{21}=0&b_{22}=1&b_{23}=0 \\end{pmatrix}$ die Matrizen unserer Wahl.   \n",
    "   \n",
    "Dann gilt:   \n",
    "<p style=\"text-align: center;\">\n",
    "$\\textbf{C} = \\textbf{A}\\textbf{B} = \n",
    "\\begin{pmatrix} \n",
    "a_{11}b_{11}+a_{12}b_{21}&a_{11}b_{12}+a_{12}b_{22}&a_{11}b_{13}+a_{12}b_{23}\\\\\n",
    "a_{21}b_{11}+a_{22}b_{21}&a_{21}b_{12}+a_{22}b_{22}&a_{21}b_{13}+a_{22}b_{23}\\\\\n",
    "a_{31}b_{11}+a_{32}b_{21}&a_{31}b_{12}+a_{32}b_{22}&a_{31}b_{13}+a_{32}b_{23}\n",
    "\\end{pmatrix}\n",
    "=\n",
    "\\begin{pmatrix}\n",
    "1\\cdot 4+0\\cdot 0 & 1\\cdot (-1)+0\\cdot1&1\\cdot 1.5+0\\cdot 0\\\\\n",
    "0\\cdot 4+3\\cdot 0 & 0\\cdot (-1)+3\\cdot1&0\\cdot 1.5+3\\cdot 0\\\\\n",
    "2\\cdot 4+2\\cdot 0 & 2\\cdot (-1)+2\\cdot1&2\\cdot 1.5+2\\cdot 0\n",
    "\\end{pmatrix}\n",
    "=\n",
    "\\begin{pmatrix}\n",
    "4&-1&1.5\\\\\n",
    "0&3&0\\\\\n",
    "8&0&3\n",
    "\\end{pmatrix}\n",
    "$\n",
    "</p>\n",
    "\n",
    "---\n",
    "\n",
    "**Randnotiz**: Matrixmultiplikation ist *NICHT* kommutativ, d.h. in der Regel ist $\\textbf{AB}\\neq \\textbf{BA}$!\n",
    "\n",
    "#### 1.2.6 Matrix-Inverse\n",
    "\n",
    "Wenn einem zum Beispiel $\\textbf{w}$ und $\\textbf{A}$ in der Gleichung $\\textbf{w} = \\textbf{Ax}$ gegeben ist, dann will ma (wie im Skalarfall) ein Inverses definieren können, um in diesem Fall $\\textbf{x}$ zu finden. Dieses $\\textbf{A}^{-1}$, die Matrix-Inverse, lässt sich aber leider nur unter bestimmten Bedigungen berechnen.  \n",
    "Hier sei nur einmal darauf aufmerksam gemacht, wir werden darauf noch zu sprechen kommen wenn es dann relevant wird!\n",
    "\n",
    "\n",
    "### 1.3 Abschließende Worte\n",
    "\n",
    "Wir man sich vermutlich vorstellen kann, kratzt diese Einführung nur an der Oberfläche. Wir werden später noch einige andere Elemente der linearen Algebra verwenden, insbesondere um besser in die Theorie neuronaler Netze reinzukommen. Wer sich schonmal dafür (oder generell) fortbilden möchte (oder sich andere Quellen zum besseren Verständnis heransuchen will), dem seien folgende Links ans Herz gelegt:   \n",
    "1. Allgemeine Lineare Algebra: <https://www.khanacademy.org/math/linear-algebra> (wunderbare, *englische* Einführung in Videoformat)\n",
    "2. Lineare Algebra für neuronale Netze: <http://www.deeplearningbook.org/contents/linear_algebra.html> (Kapitel entnommen aus dem offiziellen Buch zu *Deep Learning* (das Arbeiten mit tiefen neuronalen Netzen) von *Ian Goodfellow et al.*\n",
    "3. Für Anfänger sehr verständliche Einführung: <https://de.wikibooks.org/wiki/Mathe_f%C3%BCr_Nicht-Freaks:_Lineare_Algebra_1>\n",
    "4. <https://www.google.de/>\n",
    "\n",
    "\n"
   ]
  },
  {
   "cell_type": "markdown",
   "metadata": {},
   "source": [
    "---"
   ]
  },
  {
   "cell_type": "markdown",
   "metadata": {},
   "source": [
    "## 2. Lineare Algebra mit `numpy`"
   ]
  },
  {
   "cell_type": "markdown",
   "metadata": {},
   "source": [
    "Die Python-Bibliothek **numpy** erlaubt es uns nun, die obigen Matrix-Operation zu implementieren:"
   ]
  },
  {
   "cell_type": "code",
   "execution_count": 4,
   "metadata": {
    "scrolled": true
   },
   "outputs": [
    {
     "name": "stdout",
     "output_type": "stream",
     "text": [
      "Vektor 1 hat die Form: (3,)\n",
      "Nach Umstrukturierung: (3, 1)\n",
      "Allgemeine Spaltenform: (3, 1)\n",
      "Allgemeine Zeilenform: (1, 3)\n",
      "Hallo mein Name ist Karsten und Roth\n",
      "(3,)\n"
     ]
    }
   ],
   "source": [
    "import numpy as np\n",
    "#### Vektoren\n",
    "#Allgemeiner Aufbau eines Vektors:\n",
    "vec1 = np.array([1,2,3])\n",
    "print(\"Vektor 1 hat die Form: {}\".format(vec1.shape)) \n",
    "\"\"\"\n",
    "Der .shape-Befehl eines Objektes gibt einem die Form\n",
    "vec1 ist in diesem Fall nur eine Liste mit Länge. Um einen richtigen Vektor daraus zu machen, müssen wir\n",
    "mit .reshape() die Struktur ändern. .reshape(-1,1) sagt an: Ich will eine zweite Dimension der Größe 1. Schiebe alle\n",
    "anderen Elemente entsprechend um. Das ist das gleiche wie .reshape(3,1), welches uns einen normalen Spaltenvektor \n",
    "generiert. .reshape(1,3) baut uns dann den entspr. Zeilenvektor.\n",
    "\"\"\"\n",
    "\n",
    "vec1 = np.array([1,2,3]).reshape(-1,1) #\n",
    "print(\"Nach Umstrukturierung: {}\".format(vec1.shape))\n",
    "vec1_sp = np.array([1,2,3]).reshape(3,1)\n",
    "print(\"Allgemeine Spaltenform: {}\".format(vec1_sp.shape))\n",
    "vec1_z  = np.array([1,2,3]).reshape(1,3)\n",
    "print(\"Allgemeine Zeilenform: {}\".format(vec1_z.shape))\n",
    "\n",
    "print(\"Hallo mein Name ist {} und {}\".format(\"Karsten\",\"Roth\"))\n",
    "vec1 = np.arange(3)+1\n",
    "#Dies gibt mir den gleichen Vektor! Spielt herum und schaut/\n",
    "#googelt was ihr damit noch machen könnt."
   ]
  },
  {
   "cell_type": "code",
   "execution_count": 8,
   "metadata": {},
   "outputs": [
    {
     "name": "stdout",
     "output_type": "stream",
     "text": [
      "Matrix 1:\n",
      " [[1 0 2]\n",
      " [2 2 2]\n",
      " [3 0 1]]\n",
      " mit Form:\n",
      " (3, 3)\n",
      "14\n"
     ]
    }
   ],
   "source": [
    "#### Matrizen\n",
    "mat1 = np.array([[1,0,2],[2,2,2],[3,0,1]]) #Eine zweidimensionale Liste initialisiert meine Matrix der Form 3x3\n",
    "mat2 = np.ones([3,3])                      #Dieser Befehl bastelt mir eine Matrix nur aus Einsen mit der angegebenen Dim.\n",
    "mat3 = np.zeros_like(mat1)                 #Matrix mit Nullen der Form wie mat1.\n",
    "print(\"Matrix 1:\\n {}\\n mit Form:\\n {}\".format(mat1,mat1.shape))\n",
    "\n",
    "#Operationen\n",
    "mat1_elem_mul = mat1*mat1\n",
    "#Elementweise Matrixmultiplikation - Keine richtige Matrixmultiplikation!\n",
    "vec1_elem_mul = vec1*vec1\n",
    "#Elementweise Vektormultiplikation\n",
    "vec1_scalar   = np.dot(vec1.T,vec1)\n",
    "print(vec1_scalar)\n",
    "#Skalarprodukt\n",
    "mat1_mat_mul  = np.dot(mat1,mat1)       \n",
    "#Richtiges Matrixprodukt\n",
    "mat1_vec1_mul = np.dot(mat1,vec1_sp)    \n",
    "#Matrix-Vektor-Multiplikation\n",
    "mat1_transp   = mat1.T \n",
    "#oder np.transpose(mat1), Matrix-Transponierung "
   ]
  },
  {
   "cell_type": "markdown",
   "metadata": {},
   "source": [
    "---"
   ]
  },
  {
   "cell_type": "markdown",
   "metadata": {},
   "source": [
    "## 3. Aufgaben zur Linearen Algebra (mit numpy)"
   ]
  },
  {
   "cell_type": "markdown",
   "metadata": {},
   "source": [
    "### 3.1 Matrix-Multiplikationen"
   ]
  },
  {
   "cell_type": "markdown",
   "metadata": {},
   "source": [
    "*Idealerweise von Hand zu lösen. Computer ist aber auch erlaubt :).*"
   ]
  },
  {
   "cell_type": "markdown",
   "metadata": {},
   "source": [
    "1. Berechne: $\\begin{pmatrix} -1&0&1\\\\1&50&-2\\\\0&1&2\\end{pmatrix}^3\\cdot \\begin{pmatrix} 1\\\\0\\\\-1 \\end{pmatrix}$\n",
    "   \n",
    "1. Zeige: $\\begin{pmatrix} -1&0&1\\\\1&50&-2\\\\0&1&2\\end{pmatrix}\\cdot \\begin{pmatrix} 1&3&2\\\\2&2&-6\\\\1&2&2\\end{pmatrix}\\neq \\begin{pmatrix} 1&3&2\\\\2&2&-6\\\\1&2&2\\end{pmatrix}\\cdot \\begin{pmatrix} -1&0&1\\\\1&50&-2\\\\0&1&2\\end{pmatrix}$\n"
   ]
  },
  {
   "cell_type": "markdown",
   "metadata": {},
   "source": [
    "### 3.2 Lösungen:"
   ]
  },
  {
   "cell_type": "markdown",
   "metadata": {},
   "source": [
    "#### Aufgabe 1: "
   ]
  },
  {
   "cell_type": "code",
   "execution_count": 7,
   "metadata": {},
   "outputs": [
    {
     "name": "stdout",
     "output_type": "stream",
     "text": [
      "Option 1:\n",
      " [[  -1]\n",
      " [7602]\n",
      " [ 150]]\n",
      "Option 2:\n",
      " [[  -1]\n",
      " [7602]\n",
      " [ 150]]\n"
     ]
    }
   ],
   "source": [
    "A = np.array([[-1,0,1],[1,50,-2],[0,1,2]])\n",
    "x = np.array([1,0,-1]).reshape(3,1)\n",
    "ergebnis = np.dot(np.dot(np.dot(A,A),A),x)\n",
    "print('Option 1:\\n {}'.format(ergebnis))\n",
    "#Oder:\n",
    "ergebnis = A.dot(A).dot(A).dot(x)\n",
    "print('Option 2:\\n {}'.format(ergebnis))"
   ]
  },
  {
   "cell_type": "markdown",
   "metadata": {},
   "source": [
    "#### Aufgabe 2:"
   ]
  },
  {
   "cell_type": "code",
   "execution_count": 8,
   "metadata": {},
   "outputs": [
    {
     "name": "stdout",
     "output_type": "stream",
     "text": [
      "[[   0   -1    0]\n",
      " [  99   99 -302]\n",
      " [   4    6   -2]]\n",
      "[[  2 152  -1]\n",
      " [  0  94 -14]\n",
      " [  1 102   1]]\n"
     ]
    }
   ],
   "source": [
    "A = np.array([[-1,0,1],[1,50,-2],[0,1,2]])\n",
    "B = np.array([[1,3,2],[2,2,-6],[1,2,2,]])\n",
    "print(A.dot(B))\n",
    "print(B.dot(A))"
   ]
  },
  {
   "cell_type": "markdown",
   "metadata": {},
   "source": [
    "---"
   ]
  },
  {
   "cell_type": "markdown",
   "metadata": {},
   "source": [
    "## 4. Daten (I)nput/(O)utput"
   ]
  },
  {
   "cell_type": "markdown",
   "metadata": {},
   "source": [
    "Der Schlüssel zum erfolgreichen Arbeiten (auch mit neuronalen Netzen) ist zu wissen, wie man Daten einlesen und bearbeiten kann. Dafür fokussieren wir uns auf:  \n",
    "Das Einlesen und Manipulieren von Bilddaten sowie Tabellendaten und Textdateien."
   ]
  },
  {
   "cell_type": "markdown",
   "metadata": {},
   "source": [
    "### 4.1 Einlesen von Bilddateien"
   ]
  },
  {
   "cell_type": "markdown",
   "metadata": {},
   "source": [
    "Bilder sind das A und O unseres Projektes: Unsere biologischen Daten (z.B. Tumorschnitte) werden uns fast immer als Bilder vorgelegt. Diese können unterschiedliche Strukturen haben, ein anderes Format oder Colorierung sowie von verschieden Datentypen sein. All das muss man beachten wenn man Bilder einlesen möchte. Im Folder `/Test_Images` finden sich Beispielbilder unterschiedlicher Formate die hier eingelesen werden sollen. \n",
    "   \n",
    "Gemäß dem Motto \"*Learning by Doing*\" wird im Folgenden gezeigt, was man mit den Bildern alles anstellen kann (und was für Pakete es dafür gibt)."
   ]
  },
  {
   "cell_type": "markdown",
   "metadata": {},
   "source": [
    "#### 4.1.1 Pfade setzen"
   ]
  },
  {
   "cell_type": "code",
   "execution_count": 9,
   "metadata": {},
   "outputs": [
    {
     "name": "stdout",
     "output_type": "stream",
     "text": [
      "/home/karsten_dl/Dropbox/Life-Science_Lab/Biomathematik/Jahr1819/Python-Tutorial\n",
      "['.ipynb_checkpoints', 'Test_Images', 'Python_Installation_und_Tutorial.ipynb', 'Python_Tutorial_Teil2.ipynb']\n"
     ]
    }
   ],
   "source": [
    "import numpy as np\n",
    "from PIL import Image\n",
    "import scipy\n",
    "import os\n",
    "\n",
    "momentane_datei_position  = os.getcwd() \n",
    "#Pfad zur aktuellen Dateiposition.\n",
    "print(momentane_datei_position)\n",
    "print(os.listdir(momentane_datei_position)) \n",
    "#Listet alle Dateien im Ordner \"momentane_datei_position\" auf"
   ]
  },
  {
   "cell_type": "markdown",
   "metadata": {},
   "source": [
    "---\n",
    "Idealerweise sollte hier in der Datei-Liste der Ordner `Test_Images` angezeigt werden. Hier wollen wir uns die Dateien in diesem Ordner ausgeben lassen:"
   ]
  },
  {
   "cell_type": "code",
   "execution_count": 12,
   "metadata": {},
   "outputs": [
    {
     "name": "stdout",
     "output_type": "stream",
     "text": [
      "Dateien im Testordner:\n",
      " ['img_01916.jpg', 'train.csv', '._guido_van_rossum.jpg', '._.DS_Store', '._img_01916.jpg', '15919.jpg', 'guido_van_rossum.jpg', '._15919.jpg', '._train.csv']\n"
     ]
    }
   ],
   "source": [
    "dateien_im_Test_Ordner = os.listdir(momentane_datei_position+\"/Test_Images\") #Wir lassen uns jetzt die Dateien im Ordner \"Test_Images\" anzeigen\n",
    "print(\"Dateien im Testordner:\\n\",dateien_im_Test_Ordner)"
   ]
  },
  {
   "cell_type": "code",
   "execution_count": 15,
   "metadata": {},
   "outputs": [
    {
     "name": "stdout",
     "output_type": "stream",
     "text": [
      "Sortierte Dateien im Testordner:\n",
      " ['._.DS_Store', '._15919.jpg', '._guido_van_rossum.jpg', '._img_01916.jpg', '._train.csv', '15919.jpg', 'guido_van_rossum.jpg', 'img_01916.jpg', 'train.csv']\n"
     ]
    }
   ],
   "source": [
    "#Sortieren nach Zahlenordnung/Alphabetposition.\n",
    "dateien_im_Test_Ordner.sort()\n",
    "print(\"Sortierte Dateien im Testordner:\\n\",dateien_im_Test_Ordner)"
   ]
  },
  {
   "cell_type": "code",
   "execution_count": 40,
   "metadata": {},
   "outputs": [
    {
     "name": "stdout",
     "output_type": "stream",
     "text": [
      "['15919.jpg', 'guido_van_rossum.jpg', 'img_01916.jpg', 'train.csv']\n"
     ]
    }
   ],
   "source": [
    "#Unter Mac schleicht sich gerne mal eine extra Datei \".DS_Store\"  ein. \n",
    "#Der untere Befehl entfernt diese, falls vorhanden.\n",
    "if \".DS_Store\" in dateien_im_Test_Ordner:\n",
    "    del dateien_im_Test_Ordner[dateien_im_Test_Ordner.index(\".DS_Store\")]\n",
    "if \"._.DS_Store\" in dateien_im_Test_Ordner:\n",
    "    del dateien_im_Test_Ordner[dateien_im_Test_Ordner.index(\"._.DS_Store\")]\n",
    "\n",
    "dateien_im_Test_Ordner = [x for x in dateien_im_Test_Ordner if not ''.join(x[:2])=='._']\n",
    "print(dateien_im_Test_Ordner)"
   ]
  },
  {
   "cell_type": "markdown",
   "metadata": {},
   "source": [
    "#### 4.1.2 Bilder laden und darstellen\n",
    "\n",
    "Wie wir sehen, werden nun alle Bilder (und die *.csv*-Datei) angezeigt. Nun wollen wir diese Bilder reinladen:"
   ]
  },
  {
   "cell_type": "code",
   "execution_count": 31,
   "metadata": {},
   "outputs": [
    {
     "data": {
      "image/png": "[encoded data removed]",
      "text/plain": [
       "<PIL.JpegImagePlugin.JpegImageFile image mode=L size=47x76 at 0x7F1E41B07748>"
      ]
     },
     "execution_count": 31,
     "metadata": {},
     "output_type": "execute_result"
    }
   ],
   "source": [
    "from PIL import Image\n",
    "#Einlesen einer .png\n",
    "bild_1 = Image.open(os.getcwd()+\"/Test_Images/15919.jpg\")\n",
    "#In diesem Fall ist das Bild nun als PIL-Bilddatei gespeichert. \n",
    "#Wenn ihr einfach die Variable aufruft, wird das Bild gezeigt.\n",
    "bild_1"
   ]
  },
  {
   "cell_type": "markdown",
   "metadata": {},
   "source": [
    "Allerdings können wir in diesem Format nicht wirklich mit dem Bild arbeiten, daher wollen wir es in ein **numpy**-Array konvertieren (also eine Bildmatrix - denn ein Bild im Computer besteht schließlich nur aus einer begrenzten Zahl an Pixeln):"
   ]
  },
  {
   "cell_type": "code",
   "execution_count": 32,
   "metadata": {},
   "outputs": [
    {
     "name": "stdout",
     "output_type": "stream",
     "text": [
      "(76, 47)\n"
     ]
    }
   ],
   "source": [
    "bild_1_np = np.array(bild_1) #Konvertiert das Bild zu einer Bildmatrix\n",
    "print(bild_1_np.shape)        #Bildgröße ausgeben"
   ]
  },
  {
   "cell_type": "markdown",
   "metadata": {},
   "source": [
    "Nun wollen wir alles in einem **matplotlib**-Bild anzeigen lassen. Um den Stil des Bildes zu ändern, einfach verschiedene Colormaps (\"cmaps\") ausprobieren:(<https://matplotlib.org/examples/color/colormaps_reference.html>):"
   ]
  },
  {
   "cell_type": "code",
   "execution_count": 34,
   "metadata": {},
   "outputs": [
    {
     "data": {
      "image/png": "[encoded data removed]",
      "text/plain": [
       "<Figure size 360x360 with 1 Axes>"
      ]
     },
     "metadata": {},
     "output_type": "display_data"
    }
   ],
   "source": [
    "import matplotlib.pyplot as plt\n",
    "plt.figure(figsize=(5,5))         #Deklariert das ein Bild mit Größe \"figsize\" in inches.\n",
    "plt.imshow(bild_1_np,cmap=\"gray_r\")  #cmap=\"...\" gibt die Färbung des Bildes an. Probiert gerne andere Optionen aus!\n",
    "plt.title(u\"Amphipodes Plankton!\") #Das \"u\" for dem Text deklariert Unicode - damit Umlaute angezeigt werden.\n",
    "plt.xticks([]) #Unterdrückt die Achsennummerierung\n",
    "plt.yticks([])\n",
    "plt.xlabel(\"Irgendein x-Text\")\n",
    "plt.show()"
   ]
  },
  {
   "cell_type": "markdown",
   "metadata": {},
   "source": [
    "Und jetzt das Prozedere für *alle* Bilder:   \n",
    "Wir man sehen kann, existieren verschieden Bildformate - in unserem Fall wollen wir einfach mit den häufigsten Typen arbeiten: *.png* und *.jpg*. Falls andere Formate irgendwann auftauchen, werden wir uns darum bei Bedarf kümmern:"
   ]
  },
  {
   "cell_type": "code",
   "execution_count": 41,
   "metadata": {},
   "outputs": [
    {
     "name": "stdout",
     "output_type": "stream",
     "text": [
      "Bildgrößen:  [(76, 47), (250, 250, 3), (750, 1280, 3)]\n"
     ]
    }
   ],
   "source": [
    "bild_1 = np.array(Image.open(\"Test_Images/\"+dateien_im_Test_Ordner[0]))\n",
    "bild_2 = np.array(Image.open(\"Test_Images/\"+dateien_im_Test_Ordner[1]))\n",
    "bild_3 = np.array(Image.open(\"Test_Images/\"+dateien_im_Test_Ordner[2]))\n",
    "print(\"Bildgrößen: \",[bild_1_np.shape, bild_2.shape,bild_3.shape])"
   ]
  },
  {
   "cell_type": "markdown",
   "metadata": {},
   "source": [
    "Jetzt haben wir alle Bilder. Für 3 Bilder ist das noch machbar, alle einzeln einzulesen. Aber mit der Magie von Python wollen wir das etwas angenehmer gestalten. Zuerst aber wollen wir die geladenen Bilder, welche sich im Arbeitspeicher des Computers befinden, wieder entfernen:"
   ]
  },
  {
   "cell_type": "code",
   "execution_count": 42,
   "metadata": {},
   "outputs": [],
   "source": [
    "try: \n",
    "    #Der Befehl \"try\" testet ob die folgenden Befehle ohne Fehler ausgeführt werden können.\n",
    "    #Falls nicht, springt er (wie in der if-Schleife) zum Code im \"except\"-Abschnitt.\n",
    "    del bild_1, bild_1_np, bild_2, bild_3\n",
    "    #Denn dieser Befehl wirft einen Fehler auf, wenn die Bilder schon einmal gelöscht wurden,\n",
    "    #da Python dann versucht, auf Variablen zuzugreifen, die nicht mehr existieren.\n",
    "except:\n",
    "    pass"
   ]
  },
  {
   "cell_type": "markdown",
   "metadata": {},
   "source": [
    "Jetzt laden wir alle Bilder auf einmal ein, ungeachtet der Anzahl der Bilder:"
   ]
  },
  {
   "cell_type": "code",
   "execution_count": 43,
   "metadata": {},
   "outputs": [],
   "source": [
    "#Hier ist der Python-Einzeiler:\n",
    "dict_mit_Bildern = {i:{\"Bildname\":bildname,\"Bild\":np.array(Image.open(\"Test_Images/\"+bildname))} \\\n",
    "                    for i,bildname in enumerate(dateien_im_Test_Ordner) if bildname!=\"train.csv\"}\n",
    "\n",
    "#Oder als normale, schön ausgeführte Schleife:\n",
    "dict_mit_Bildern = {}\n",
    "for i,bildname in enumerate(dateien_im_Test_Ordner):\n",
    "    if bildname != \"train.csv\": #Wir wollen nur Bilder und keine .csv laden.\n",
    "        dict_mit_Bildern[i] = {\"Bildname\":bildname,\"Bild\":np.array(Image.open(\"Test_Images/\"+bildname))}\n"
   ]
  },
  {
   "cell_type": "markdown",
   "metadata": {},
   "source": [
    "`dict_mit_Bilder` ist nun ein Wörterbuch mit Indizes `0 ... Anzahl_Bilder-1`. Für jeden Index gibt es ein weiteres Wörterbuch, welches den Bildnamen (\"Bildname\") und das Bild als `np.array()` (\"Bild\")."
   ]
  }
 ],
 "metadata": {
  "anaconda-cloud": {},
  "kernelspec": {
   "display_name": "Python 3",
   "language": "python",
   "name": "python3"
  },
  "language_info": {
   "codemirror_mode": {
    "name": "ipython",
    "version": 3
   },
   "file_extension": ".py",
   "mimetype": "text/x-python",
   "name": "python",
   "nbconvert_exporter": "python",
   "pygments_lexer": "ipython3",
   "version": "3.7.0"
  }
 },
 "nbformat": 4,
 "nbformat_minor": 1
}
