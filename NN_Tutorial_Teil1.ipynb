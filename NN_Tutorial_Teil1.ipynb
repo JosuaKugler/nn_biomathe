{
 "cells": [
  {
   "cell_type": "markdown",
   "metadata": {},
   "source": [
    "# Neurale Netzwerke - Tutorial Teil 2\n",
    "---"
   ]
  },
  {
   "cell_type": "markdown",
   "metadata": {},
   "source": [
    "In diesem zweiten Teil wollen wir mittels spezieller Pythonbibliotheken den Aufbau eines solchen Netzwerkes vereinfachen. Hierfür bedienen wir uns der **PyTorch**-Bibliothek (<http://pytorch.org/>)"
   ]
  },
  {
   "cell_type": "markdown",
   "metadata": {},
   "source": [
    "Kurz vorweg:    \n",
    "_Tieferführende Literaturvorschläge_:\n",
    "* Weitere Tutorials zu PyTorch: <http://pytorch.org/tutorials/>\n",
    "* Sehr gute Einführung in neuronale Netzwerke: <http://neuralnetworksanddeeplearning.com/>\n",
    "* Das absolute Topbuch zu Deep Learning allgemein: <http://www.deeplearningbook.org/>\n",
    "\n",
    "---"
   ]
  },
  {
   "cell_type": "markdown",
   "metadata": {},
   "source": [
    "## 1. Installation"
   ]
  },
  {
   "cell_type": "markdown",
   "metadata": {},
   "source": [
    "Die Installation sollte vergleichsweise einfach ablaufen (wenn Python 3.6, siehe Einführung in Python, über Miniconda oder Anaconda installiert wurde).\n",
    "Je nach Betriebssystem müssen in der Kommandozeile innerhalb unserer virtuellen Umgebung folgende Installationsbefehle eingegeben werden:\n",
    "\n",
    "_Installieren der relevanten Python-Bibliotheken_:   \n",
    "`conda install pytorch=0.4.1 cuda80 -c pytorch`   \n",
    "`conda install torchvision -c pytorch`      \n",
    "\n",
    "\n",
    "Hier gehe ich davon aus das erstmal niemand direkten Zugriff auf eine Nvidia-GPU hat. Falls je, in den Kommentaren nach `[Mit GPU]` schauen.\n",
    "\n",
    "---"
   ]
  },
  {
   "cell_type": "markdown",
   "metadata": {},
   "source": [
    "## 2. Aufbau des Netzwerkes"
   ]
  },
  {
   "cell_type": "markdown",
   "metadata": {},
   "source": [
    "## 2.1 FCNs"
   ]
  },
  {
   "cell_type": "markdown",
   "metadata": {},
   "source": [
    "Im ersten Teil des Tutorials haben wir ein einfaches **Fully-connected Neural Network (FCN)** aufgebaut, mit 3 Schichten zu 748, 30 und 10 Neuronen. Das wollen wir mit PyTorch replizieren:"
   ]
  },
  {
   "cell_type": "code",
   "execution_count": 1,
   "metadata": {},
   "outputs": [
    {
     "name": "stdout",
     "output_type": "stream",
     "text": [
      "Zusammenfassung:\n",
      " Sequential(\n",
      "  (0): Linear(in_features=784, out_features=30, bias=True)\n",
      "  (1): ReLU()\n",
      "  (2): Linear(in_features=30, out_features=10, bias=True)\n",
      "  (3): Softmax()\n",
      ")\n"
     ]
    }
   ],
   "source": [
    "### PyTorch importieren\n",
    "import torch\n",
    "\n",
    "FCN = torch.nn.Sequential(\n",
    "      torch.nn.Linear(784, 30), # Erste/Zweite Schicht: 784 Eingangsneuronen zu 30 \"versteckten\" Neuronen\n",
    "      torch.nn.ReLU(),          # Aktivierungsfunktion\n",
    "      torch.nn.Linear(30, 10),  # Zweite/Erste Schicht: 30 \"versteckte\" Neuronen gehen über zu 10 Ausgangsneuronen.\n",
    "      torch.nn.Softmax(dim=1)   # Ausgangsaktivierungsfunktion. Siehe vorheriges Tutorial.\n",
    "      )\n",
    "\n",
    "print(\"Zusammenfassung:\\n\",FCN)"
   ]
  },
  {
   "cell_type": "markdown",
   "metadata": {},
   "source": [
    "Und das wars! Das gesamte Netzwerk ist fertig aufgebaut und bereit zum Verwenden!\n",
    "\n",
    "Zum genaueren Verständnis gehen wir aber alles noch einmal stückweise durch:\n",
    "Zuerst importieren wir die PyTorch-Bibliothek mit \n",
    "\n",
    "`import torch`\n",
    "\n",
    "Danach rufen wir das Submodul `nn` und dessen Unterklasse `Sequential` auf. `Sequential()` ist ein Hülle, in welche wir unsere Schichten reinstecken, die das Netzwerk ausmachen. Das kann man sich wie einen Binder vorstellen, welcher die einzelnen Papiere zusammen hält. Wir im Binder ist die Reihenfolge wichtig!\n",
    "\n",
    "In unserem Beispiel sind die Schichten die einzelnen Neuronschichten `nn.Linear()`. \n",
    "\n",
    "Diese nehmen als Input die eingehenden und ausgehenden Neuronen. Wer sich im vorherigen Tutorial an die Matrizen-Notation erinnert, der weiß, dass das nötig ist, um die Transformationsmatrix zu konstruieren, die beispielsweise von der Eingangsschicht zur Versteckten transformiert.\n",
    "\n",
    "Für die Extraportion Nichtlinearität setzen wir wie schon im vorherigen Tutorial Aktivierungsfunktionen ein (`nn.ReLU()`), sowie `nn.Softmax()` als Ausgabefunktion, damit wir Wahrscheinlichkeiten rausgegeben bekommen.\n",
    "\n",
    "Und voilà - das Netzwerk ist komplett. Um es nun zu trainieren, müssen wir alles Drumherum wieder aufsetzen: Das Einlesen der Daten sowie die Präparation und im Anschluss noch einige Eigenheiten von PyTorch beachten."
   ]
  },
  {
   "cell_type": "markdown",
   "metadata": {},
   "source": [
    "### 2.1.1. Gesamte Trainingsstruktur"
   ]
  },
  {
   "cell_type": "markdown",
   "metadata": {},
   "source": [
    "Neben dem einfachen Aufbau von Netzen bietet PyTorch zum Einlesen und Verwenden der Daten noch viele hilfreiche Mittel! Entsprechend werde ich zuerst die Struktur zeigen, dann Stück für Stück erläutern."
   ]
  },
  {
   "cell_type": "code",
   "execution_count": 2,
   "metadata": {},
   "outputs": [],
   "source": [
    "import torch\n",
    "import torch.nn.functional as F\n",
    "import torch.optim as optim\n",
    "\n",
    "from torch.utils.data import DataLoader, Dataset\n",
    "from torch.autograd import Variable\n",
    "\n",
    "from PIL import Image\n",
    "\n",
    "from torchvision import transforms\n",
    "\n",
    "import os\n",
    "import numpy as np\n",
    "\n",
    "class MNIST_Data_Provider(Dataset):\n",
    "    def __init__(self, all_image_paths, all_image_labels):\n",
    "        super(MNIST_Data_Provider, self).__init__()\n",
    "        #Dieser befehl gibt in Kurzfassung an, das Grundeinstellungen\n",
    "        #aus der Vaterklasse geerbt werden sollen, in diesem Fall\n",
    "        #torch.utils.data.Dataset.\n",
    "        \n",
    "        self.all_image_paths, self.all_image_labels = all_image_paths, all_image_labels\n",
    "        # Alle Dateipfade setzen\n",
    "        \n",
    "        self.transform_to_torch_tensor = transforms.ToTensor()\n",
    "        # PyTorch arbeitet mit Tensor-Objekten, analog wie Numpy mit\n",
    "        # numpy-array Objekten arbeitet.\n",
    "        \n",
    "        self.hot_list = np.eye(10).astype(int)     \n",
    "        \n",
    "    def one_hot(self, label):\n",
    "        \"\"\"\n",
    "        Zahl zu Vektornotation konvertieren.\n",
    "        \"\"\"\n",
    "        return self.hot_list[label]\n",
    "    \n",
    "    def __getitem__(self, idx):\n",
    "        loaded_image    = Image.open(self.all_image_paths[idx])\n",
    "        label_for_image = self.all_image_labels[idx]\n",
    "        \n",
    "        return self.transform_to_torch_tensor(loaded_image), label_for_image\n",
    "    \n",
    "    def __len__(self):\n",
    "        return len(self.all_image_paths)\n",
    "    \n",
    "\n",
    "def get_image_paths(path_to_folder):\n",
    "    all_image_paths = []\n",
    "    all_labels      = []\n",
    "    for numberpath in os.listdir(path_to_folder):\n",
    "        if numberpath != \".DS_Store\":\n",
    "            all_image_paths.extend([path_to_folder+\"/\"+numberpath+\"/\"+x for x in os.listdir(path_to_folder+\"/\"+numberpath)])\n",
    "            all_labels.extend([int(numberpath) for _ in range(len(os.listdir(path_to_folder+\"/\"+numberpath)))])\n",
    "    return all_image_paths, all_labels    "
   ]
  },
  {
   "cell_type": "markdown",
   "metadata": {},
   "source": [
    "Hier erstellen wir eine Datenklasse, welche von `torch.utils.data.Dataset` erbt (die genauen Spezifikationen sind nicht so wichtig). Ihre Aufgabe ist es, `datagen()` aus dem vorherigen Tutorial zu ersetzen und uns die Bilder zurückzugeben. \n",
    "Wie das Bild zurückgegeben wird ist in der Funktion `__getitem__()` festgesetzt, welche auf Anfrage ein Trainingsbild zurückgibt.\n",
    "\n",
    "\n",
    "Damit lässt sich das Training des Netzes nun wie folgt gestalten:"
   ]
  },
  {
   "cell_type": "code",
   "execution_count": 3,
   "metadata": {},
   "outputs": [],
   "source": [
    "import torch\n",
    "import torch.nn.functional as F\n",
    "import torch.optim as optim\n",
    "from torch.utils.data import DataLoader, Dataset\n",
    "from torch.autograd import Variable\n",
    "from PIL import Image\n",
    "import os\n",
    "import sys\n",
    "\n",
    "\"\"\" Wichtige Hyperparameter setzen \"\"\"\n",
    "# Hyperparameter nennt man Parameter, die \n",
    "# indirekt die Perfomance unseres Netzwerkes beeinflussen.\n",
    "batch_size             = 64\n",
    "n_epochs               = 10\n",
    "learning_rate          = 0.003\n",
    "train_validation_split = 0.8 #Prozentuale Einteilung in Trainings- und Validierungsdaten\n",
    "\n",
    "# Pfad zum Trainingsset. In diesem Fall befindet sich dieses im gleichen Ordner wie\n",
    "# das Jupyter Notebook.\n",
    "path_to_MNIST_dataset = os.getcwd()+\"/trainingSet\"\n",
    "\n",
    "# Wie im vorherigen Tutorial holen wir uns hier eine Liste aller Bildpfade und Labels.\n",
    "all_image_paths, all_image_labels = get_image_paths(path_to_MNIST_dataset)\n",
    "\n",
    "# Hier werden diese dann durchmischt. \n",
    "# np.random.seed() sorgt dafür, das stets die gleiche Durchmischung stattfindet.\n",
    "np.random.seed(1)\n",
    "np.random.shuffle(all_image_paths)\n",
    "np.random.seed(1)\n",
    "np.random.shuffle(all_image_labels)\n",
    "\n",
    "#Aufteilungsindex zwischen Trainings- und Validierungsdatensatz.\n",
    "split_idx = int(len(all_image_paths)*train_validation_split)\n",
    "\n",
    "#Aufbau des Trainings-Datengenerators\n",
    "training_img_paths = all_image_paths[:split_idx]\n",
    "training_labels    = all_image_labels[:split_idx]\n",
    "train_dataset = MNIST_Data_Provider(training_img_paths, training_labels)\n",
    "train_datagen = DataLoader(train_dataset, batch_size=batch_size,drop_last=True, shuffle=True, num_workers=0)\n",
    "\n",
    "#Aufbau des Validierungsdatengenerators\n",
    "validation_img_paths = all_image_paths[split_idx:]\n",
    "validation_labels    = all_image_labels[split_idx:]\n",
    "val_dataset = MNIST_Data_Provider(validation_img_paths, validation_labels)\n",
    "val_datagen = DataLoader(val_dataset, batch_size=batch_size, drop_last=True, shuffle=False, num_workers=0)"
   ]
  },
  {
   "cell_type": "code",
   "execution_count": 4,
   "metadata": {},
   "outputs": [],
   "source": [
    "# Aufbau des Netzwerkes wie oben.\n",
    "FCN = torch.nn.Sequential(\n",
    "      torch.nn.Linear(784, 150), # Erste/Zweite Schicht: 784 Eingangsneuronen zu 30 \"versteckten\" Neuronen\n",
    "      torch.nn.LeakyReLU(),          # Aktivierungsfunktion\n",
    "      torch.nn.Linear(150, 30),  # Zweite/Erste Schicht: 30 \"versteckte\" Neuronen gehen über zu 10 Ausgangsneuronen.\n",
    "      torch.nn.LeakyReLU(),          # Aktivierungsfunktion\n",
    "      torch.nn.Linear(30, 10),  # Zweite/Erste Schicht: 30 \"versteckte\" Neuronen gehen über zu 10 Ausgangsneuronen.    \n",
    "      torch.nn.Softmax(dim=1)   # Ausgangsaktivierungsfunktion. Siehe vorheriges Tutorial.\n",
    "      )\n",
    "\n",
    "\n",
    "#Sammler verschiedener Metriken, in diesem Fall der Trainings\n",
    "#und Validierungsgenauigkeiten\n",
    "data_coll = {\"t_acc\":[], \"v_acc\":[]}"
   ]
  },
  {
   "cell_type": "markdown",
   "metadata": {},
   "source": [
    "Das obige Skript beinhaltet alles, was nötig ist, um ein Neuronales Netzwerk zu trainieren: WIr haben unseren Datengenerator `datagen()` (mehr dazu gleich), unser **FCN**, eine Kostenfunktion `F.cross_entropy()`(siehe vorheriges Tutorial) sowie als Optimierungsalgorithmus einen Standard-Gradientenminimierer, `optim.SGD()`, wobei _SGD_ kurz für _Stochastic Gradient Descent_ ist.\n",
    "\n",
    "**Dataloader**\n",
    "Der `Dataloader` selbst ist eine Hülle für unser `Dataset` welches wir weiteroben geschrieben haben. Die Aufgabe hier ist es einfach, das Rausziehen der Daten zu vereinfachen und zu parallelisieren. Die Parameter, die man ihm übergibt, sind dabei die `batch_size`, d.h. für wie viele Bilder der Gradient berechnet werden soll, bis die Netzwerkgewichte upgedatet werden, `num_workers`, welches der Anzahl der CPU-Kernen entspricht sowie `shuffle` und `remove_last`, welches für Durchmischen der Daten und entfernen von Batches sind, die nicht `batch_size` entsprechen.\n",
    "\n",
    "**Optimierer**\n",
    "Als Optimierer haben wir hier einen _Stochastic Gradient Descent_-Algorithmus verwendet, welcher auch im vorherigen Tutorial zu finden ist. Alternativen, die zum Teil wesentlich besser funktionieren, finden sich unter <http://pytorch.org/docs/master/nn.html#loss-functions>.\n",
    "Eine genauere Betrachtung verschiedener Optimierer werden wir, wenn die Zeit da ist, noch durchgehen. Ansonsten einfach ausprobieren!\n",
    "\n",
    "Generell lassen sich diese aber in zwei Klassen einteilen: Adaptive und Nicht-adaptive Methoden, welche sich darin unterscheiden, ob die Lernrate angepasst (_adaptiv_) oder belassen wird.\n",
    "\n",
    "In die zweite Kategorie fallen Methoden wie `SGD`, `SGD mit Impuls` oder `Adadelta`, wobei letztere Methoden eine zerfallende Summe vergangener Gradienten sammeln, um schneller konvergieren zu können und Sattelpunkten bzw. kleineren lokalen Minima entkommen können:\n",
    "\n",
    "Erinnern wir uns an die Vorschrift für `SGD`:\n",
    "\n",
    "-  Für die Gewichte: \n",
    "\\begin{equation}\n",
    "w_{ik}^{j(t+1)} = w_{ik}^{jt} - \\frac{\\eta}{bs} \\sum_{s=1}^{bs}\\frac{\\partial L(\\textbf{o}_s,\\textbf{t}_s)}{\\partial w_{ik}^{jt}}\n",
    "\\end{equation}\n",
    "-  Für die Offsets:\n",
    "\\begin{equation}\n",
    "b_{i}^{j(t+1)} = b_{i}^{jt} - \\frac{\\eta}{bs} \\sum_{s=1}^{bs}\\frac{\\partial L(\\textbf{o}_s,\\textbf{t}_s)}{\\partial b_{i}^{jt}}\n",
    "\\end{equation}\n",
    "\n",
    "so sieht beispielsweise `SGD mit Impuls`, oder auch `SGD with Momentum` so aus (gezeigt anhand der Gewichte):\n",
    "\n",
    "\\begin{equation}\n",
    "w_{ik}^{j(t+1)} = w_{ik}^{jt} - \\eta \\cdot \\nu^{jt}_{ik}\n",
    "\\end{equation}\n",
    "\n",
    "wobei \n",
    "\n",
    "\\begin{equation}\n",
    "\\nu^{jt}_{ik} = \\gamma \\cdot \\nu^{j(t-1)}_{ik} + \\frac{1}{bs} \\sum_{s=1}^{bs}\\frac{\\partial L(\\textbf{o}_s,\\textbf{t}_s)}{\\partial w_{ik}^{jt}}\n",
    "\\end{equation}\n",
    "\n",
    "Der Parameter $\\gamma\\in [0,1]$ wird als \"Reibung\" bezeichnet, da er die momentane Summe der Gradienten, analog zu einer Geschwindigkeit reduziert. Wohlgemerkt für $\\gamma=0$ haben wir einfach `SGD`.\n",
    "\n",
    "Adaptive Methoden verwenden ähnliche Kollektionen, d.h. zerfallende Summen der Gradienten im ersten und/oder zweiten Momenten, um die Lernrate in sinnvolle Richtungen zu lenken.\n",
    "\n",
    "Darunter fallen beispielsweise `Adam`, `RMSPROP` oder `Nadam`.\n",
    "Für mehr Info, siehe neben der offiziellen PyTorch Dokumentation, zum Beispiel http://ruder.io/optimizing-gradient-descent/.\n",
    "\n",
    "---\n",
    "\n",
    "Andere wichtige **Schlüsselwörter** sind im Code selbst erklärt!\n"
   ]
  },
  {
   "cell_type": "code",
   "execution_count": 5,
   "metadata": {},
   "outputs": [
    {
     "name": "stdout",
     "output_type": "stream",
     "text": [
      "Training in Epoch 0...\n",
      "\t T-Progress: [301/525]\n",
      "\t V-Progress: [101/131]\n",
      "Results: T-Loss 0.02564 | T-Acc 83.2083% | V-Acc 93.0582%\n",
      "Training in Epoch 1...\n",
      "\t T-Progress: [301/525]\n",
      "\t V-Progress: [101/131]\n",
      "Results: T-Loss 0.02380 | T-Acc 94.0774% | V-Acc 94.1198%\n",
      "Training in Epoch 2...\n",
      "\t T-Progress: [301/525]\n",
      "\t V-Progress: [101/131]\n",
      "Results: T-Loss 0.02360 | T-Acc 95.1667% | V-Acc 95.2409%\n",
      "Training in Epoch 3...\n",
      "\t T-Progress: [301/525]\n",
      "\t V-Progress: [101/131]\n",
      "Results: T-Loss 0.02349 | T-Acc 95.8869% | V-Acc 94.9905%\n",
      "Training in Epoch 4...\n",
      "\t T-Progress: [301/525]\n",
      "\t V-Progress: [101/131]\n",
      "Results: T-Loss 0.02342 | T-Acc 96.2917% | V-Acc 94.6565%\n",
      "Training in Epoch 5...\n",
      "\t T-Progress: [301/525]\n",
      "\t V-Progress: [101/131]\n",
      "Results: T-Loss 0.02337 | T-Acc 96.5833% | V-Acc 95.5153%\n",
      "Training in Epoch 6...\n",
      "\t T-Progress: [301/525]\n",
      "\t V-Progress: [101/131]\n",
      "Results: T-Loss 0.02332 | T-Acc 96.8363% | V-Acc 95.9924%\n",
      "Training in Epoch 7...\n",
      "\t T-Progress: [301/525]\n",
      "\t V-Progress: [101/131]\n",
      "Results: T-Loss 0.02326 | T-Acc 97.3155% | V-Acc 96.1236%\n",
      "Training in Epoch 8...\n",
      "\t T-Progress: [301/525]\n",
      "\t V-Progress: [101/131]\n",
      "Results: T-Loss 0.02325 | T-Acc 97.3304% | V-Acc 95.6942%\n",
      "Training in Epoch 9...\n",
      "\t T-Progress: [301/525]\n",
      "\t V-Progress: [101/131]\n",
      "Results: T-Loss 0.02326 | T-Acc 97.2292% | V-Acc 95.9924%\n"
     ]
    }
   ],
   "source": [
    "#Start des eigentlichen Trainings.\n",
    "device = torch.device('cpu')\n",
    "# ### Wenn eine GPU verwendet wird, einfach diese Zeile ausklammern:\n",
    "# device = torch.device('cuda')\n",
    "_ = FCN.to(device)\n",
    "\n",
    "#Optimierungsalgorithmus - Er nimmt die Lernrate und die Netzwerkparameter und updated diese je\n",
    "#nach Gradienten. Diese wird später im Traininglauf berechnet (unten).\n",
    "optimizer = optim.Adam(FCN.parameters(), lr=learning_rate)\n",
    "\n",
    "for epoch in range(n_epochs):\n",
    "    print(\"Training in Epoch {}...\".format(epoch))\n",
    "    \n",
    "    \"\"\" Hier startet das Training! \"\"\"\n",
    "    FCN.train() #Schlüsselwort um das Netz in Trainingsmodus zu stecken.\n",
    "                #Hier für uns nicht direkt wichtig, aber einige besondere Netzwerkschichten\n",
    "                #verhalten sich während Training und Validierung unterschiedlich\n",
    "    \n",
    "    train_avg_loss = 0\n",
    "    train_avg_acc  = 0\n",
    "    \n",
    "    for idx, (img,label) in enumerate(train_datagen):\n",
    "        \n",
    "        # Unser Datengenerator gibt uns Bilder und Labels aus.\n",
    "        # Diese müssen wir für PyTorch in Objekte umwandeln, für die\n",
    "        # mathematisch ein Gradient berechnet werden kann. \n",
    "        # Ausserdem schieben wir unser Objekt nach <device>.\n",
    "        # Dies ist relevant, falls <device> eine GPU bei uns stellt.\n",
    "        img, label = img.to(device), label.to(device)\n",
    "\n",
    "        # Die Vorhersage unseres Netzwerkes für ein Satz Bilddaten, welche vorher zu Form\n",
    "        # (Batch_size, n_classes) vektorisiert wird.\n",
    "        output = FCN(img.view(batch_size,-1))\n",
    "        \n",
    "        # Unsere Kostenfunktion, Categorical Cross-Entropy.\n",
    "        loss = F.cross_entropy(output, label)\n",
    "\n",
    "                \n",
    "        # Hier setzen wir vormals berechnete Gradienten of 0.\n",
    "        optimizer.zero_grad()\n",
    "        # Dann berechnen wir diese erneut abhängig zur Kostenfunktion.\n",
    "        loss.backward()\n",
    "        # Im Anschluss werden alle Gewichte upgedatet.\n",
    "        optimizer.step()\n",
    "        \n",
    "        # Anzahl an korrekt vorhergesagter Bilder.\n",
    "        # Erklärung des Kettenbegriffs:\n",
    "        # Mit Variable()-Objekten kann nicht gut direkt gearbeitet werden. Daher nehmen wir uns deren\n",
    "        # Zahleninhalt mit .data, suchen das entsprechende Maximum entlang der 1. Achse und vergleichen das\n",
    "        # elementweise mit dem wahren Wert über .eq(label.data). Im Anschluss wird das Ergebnis aufsummiert und gibt\n",
    "        # die Anzahl korrekter Vorhersagen pro Batch zurück.\n",
    "        correct_guesses = output.cpu().detach().max(1)[1].eq(label.cpu().detach()).sum()\n",
    "        \n",
    "        # Hier sammeln wir Kosten und Genauigkeit während dem Training.\n",
    "        train_avg_loss += loss.item()\n",
    "        train_avg_acc  += correct_guesses.numpy()\n",
    "        \n",
    "        if idx%300==0 and idx!=0:\n",
    "            print(\"\\t T-Progress: [{}/{}]\\r\".format(idx+1,len(train_datagen)))\n",
    "\n",
    "    # Um prozentuale Ergebnisse zu bekommen, mitteln wir alles durch die Anzahl an Trainingsbildern.\n",
    "    train_avg_loss = train_avg_loss*1./(batch_size*len(train_datagen))\n",
    "    train_avg_acc  = train_avg_acc*1./(batch_size*len(train_datagen))\n",
    "    \n",
    "    data_coll[\"t_acc\"].append(train_avg_acc)\n",
    "    \"\"\" Hier startet die Validierung \"\"\"\n",
    "    FCN.eval() #Netzwerk wird in Validierungs-/Testmodus gesteckt.\n",
    "    \n",
    "    ### Ab hier das gleiche Prozeder wie während dem Training, lediglich ohne \n",
    "    ### Trainieren der Parameter.\n",
    "    val_avg_acc = 0\n",
    "    \n",
    "    with torch.no_grad():\n",
    "        for idx, (img,label) in enumerate(val_datagen):\n",
    "            img, label = img.to(device), label.to(device)\n",
    "            output     = FCN(img.view(batch_size,-1))\n",
    "            correct_guesses = output.cpu().detach().max(1)[1].eq(label.cpu().detach()).sum()\n",
    "\n",
    "            val_avg_acc  += correct_guesses.numpy()\n",
    "\n",
    "            if idx%100==0 and idx!=0:\n",
    "                print(\"\\t V-Progress: [{}/{}]\\r\".format(idx+1,len(val_datagen)))    \n",
    "\n",
    "    val_avg_acc = val_avg_acc*1./(batch_size*len(val_datagen))\n",
    "    data_coll[\"v_acc\"].append(val_avg_acc)\n",
    "    print(\"Results: T-Loss {0:2.5f} | T-Acc {1:3.4f}% | V-Acc {2:3.4f}%\".format(train_avg_loss, train_avg_acc*100., val_avg_acc*100.))"
   ]
  },
  {
   "cell_type": "markdown",
   "metadata": {},
   "source": [
    "---"
   ]
  },
  {
   "cell_type": "markdown",
   "metadata": {},
   "source": [
    "### 2.1.2. Aufgaben"
   ]
  },
  {
   "cell_type": "markdown",
   "metadata": {},
   "source": [
    "#### 1. Aufgabe"
   ]
  },
  {
   "cell_type": "markdown",
   "metadata": {},
   "source": [
    "Geht durch die Beschreibungen auf <http://pytorch.org/docs/master/nn.html> und schaut, ob ihr Änderungen findet, die das Netz evtl. besser trainieren lassen!"
   ]
  },
  {
   "cell_type": "markdown",
   "metadata": {},
   "source": [
    "#### 2. Aufgabe "
   ]
  },
  {
   "cell_type": "markdown",
   "metadata": {},
   "source": [
    "Nehmt einen Trainingsdurchgang auf und plottet Kosten/Genauigkeit gegen Epoche oder Iteration!"
   ]
  },
  {
   "cell_type": "code",
   "execution_count": 7,
   "metadata": {},
   "outputs": [
    {
     "data": {
      "image/png": "[encoded data removed]",
      "text/plain": [
       "<Figure size 432x288 with 1 Axes>"
      ]
     },
     "metadata": {
      "needs_background": "light"
     },
     "output_type": "display_data"
    }
   ],
   "source": [
    "import matplotlib.pyplot as plt\n",
    "\n",
    "plt.plot(data_coll[\"t_acc\"],\"b\",label='Training Accuracy')\n",
    "plt.plot(data_coll[\"v_acc\"],\"r\",label='Validation Accuracy')\n",
    "plt.xlabel(\"Epochs\")\n",
    "plt.ylabel(\"Accuracy\")\n",
    "plt.legend()\n",
    "plt.show()"
   ]
  },
  {
   "cell_type": "markdown",
   "metadata": {},
   "source": [
    "---"
   ]
  },
  {
   "cell_type": "markdown",
   "metadata": {},
   "source": [
    "## 2.2 Convolutional Neural Networks (CNNs)"
   ]
  },
  {
   "cell_type": "markdown",
   "metadata": {},
   "source": [
    "Bis hierhin haben wir uns mit **FCN**s auseinandergesetzt, welche versuchen (zumindest in stark vereinfachenden Zügen) das Gehirn und seine Neuronen nachzustellen. Eine zweite Klasse, die solche Netzwerke aus einem rein mathematischen Standpunkt angeht, sind sog. **Convolutional Neural Network**s **(CNN)**s.\n",
    "\n",
    "Anders als bei unseren FCNs haben wir es hier mit **Filtern** statt Neuronen zu tun. Zudem nehmen sie als Eingangssignal direkt Bilder oder andere volumetrische Daten. Die Grobstruktur sieht aus wie in der unteren Abbildung (Quelle: >https://www.kdnuggets.com/2015/11/understanding-convolutional-neural-networks-nlp.html>).\n",
    "\n",
    "<img src=\"Bilder/cnn.png\"> "
   ]
  },
  {
   "cell_type": "markdown",
   "metadata": {},
   "source": [
    "Eine ergänzende Darstellung (entnommen von <https://stackoverflow.com/questions/42733971/convolutional-layer-to-fully-connected-layer-in-cnn>) findet sich ebenso:\n",
    "\n",
    "<img src=\"Bilder/cnn2.png\">"
   ]
  },
  {
   "cell_type": "markdown",
   "metadata": {},
   "source": [
    "Beide Bilder (ansonsten einfach das Internet nach Bildern durchforsten) reichen hoffentlich aus, um die Wirkungsweise solche Netzwerke klarzustellen.\n",
    "\n",
    "Wir starten mit unserem Bild (in unserem Fall das Bild einer Zahl) und füttern es in ein **CNN**. Dieses hat, ähnlich wie das **FCN**, eine Reihe von Schichten:\n"
   ]
  },
  {
   "cell_type": "markdown",
   "metadata": {},
   "source": [
    "### 2.2.1 Convolutional Layer"
   ]
  },
  {
   "cell_type": "markdown",
   "metadata": {},
   "source": [
    "Das ist die Hauptschicht (ähnlich den Neuronen im FCN). Eine Hauptschicht ist eine Ansammlung sog. Filter, kleine Matrizen mit Gewichten, welche jeweils über das Bild geschoben werden und eine Convolution/Faltung berechnen (mathematisch eigentlich eine Korrelation, aber das tut nichts zur Sache). Das sieht etwa so aus:\n",
    "\n",
    "<img src=\"Bilder/conv_pic_example.png\">\n",
    "\n",
    "Wie man erkennen kann, nimmt ein Filter eine Pixelgruppe und gewichtet die Werte zu *einem* Aktivierungswert. Macht er das für alle Pixelgruppen auf einem Bild, entsteht eine sog. **Feature map** - eine Abbildung des Bildes zu einem Bild welches besondere Bildeigenschaften hervorhebt, z.B. Kanten.\n",
    "\n",
    "Da sich in jeder Schicht mehrere solcher Filter befinden, gibt es auch entsprechend viele solcher **Feature maps**. In obigen Bild ist dies durch die Breite (_96, 256, ..._) angegeben, da am Ende einer Schicht alle dieser feature maps verkettet werden, denn:\n",
    "\n",
    "In der nächsten Schicht nehmen sich die Filter wieder Pixelgruppen vor, dieses mal aber für alle Pixel in allen feature maps innerhalb einer Gruppenposition.\n",
    "\n",
    "**Ein Beispiel:**\n",
    "Seien in der ersten Schicht 20 Filter vorhanden. Das Eingangsbild hat die Maße $224\\times 224$. Die Filter haben je die Größe $3\\times3$. Nach Anwenden verbleiben wir mit 20 $222\\times222$-Bildern (die reduzierte Größe liegt daran, das an den Bildkanten der Filter etwas verschoben werden muss und so die Randpixel nicht gleich oft wie innere Pixel erfasst werden). Nach Verkettung macht das einen $20\\times222\\times222$-Klotz.\n",
    "In der nächsten Schicht haben dann die Filter die Ausmaße $20\\times3\\times3$, da die Informationen aus **allen** feature maps zusammengeführt werden!\n",
    "\n",
    "**Anmerkung**: Um die Bildverkleinerung zu bekämpfen, kann man stets das Eingangsbild/die Eingangsfeaturemaps an den Seiten mit Nullen ausstatten, und die Größe vor den Berechnungen etwas erhöhen, sodas am Ende wieder die gleiche Größe herauskommt.\n"
   ]
  },
  {
   "cell_type": "markdown",
   "metadata": {},
   "source": [
    "### 2.2.2 Pooling Layer"
   ]
  },
  {
   "cell_type": "markdown",
   "metadata": {},
   "source": [
    "Um die Anzahl an Gewichten zu reduzieren, führt man ganz gerne **Pooling Layer** ein. Das sind Minischichten, deren einzige Aufgabe es ist, die Ausmaße des Netzes zu reduzieren. Sie definieren sich über eine **Kerngröße/Kernelsize** ähnlich den Filtern oben. Sie nehmen sich eine Pixelgruppe vor und führen eine Operation aus, z.B. den Maximalwert oder das arithmetische Mittel nehmen. Entsprechend nennt man solche Schichten auch **Maxpooling**- bzw. **Averagepooling**-**Layer**.\n",
    "\n",
    "**Ein Beispiel**:\n",
    "Ein Satz Featuremaps der Größe $20\\times200\\times200$ hat nach einem *Maxpoolinglayer* mit *Kernelsize* $2\\times2$ die Größe $20\\times100\\times100$."
   ]
  },
  {
   "cell_type": "markdown",
   "metadata": {},
   "source": [
    "### 2.2.3 Sonstige Schichten"
   ]
  },
  {
   "cell_type": "markdown",
   "metadata": {},
   "source": [
    "Ansonsten sind die restlichen Schichten sehr ähnlich zu denen in einem **FCN**, d.h. eine Schicht mit einer Aktivierungsfunktion und/oder andere Funktionen.\n",
    "\n",
    "Zudem ist es nicht unüblich, das **CNN** mit einem kleinen **FCN** abzuschließen. Hierfür werden die letzten Featuremaps entsprechend vektorisiert (d.h. bei einem finalen Featureklotz der Größe $20\\times15\\times15$ wird ein Vektor der Länge $4500$ ausgespuckt) und in ein **FCN** gesteckt.\n",
    "\n",
    "Das ist auch in den obigen Bildern zu sehen."
   ]
  },
  {
   "cell_type": "markdown",
   "metadata": {},
   "source": [
    "## 2.3 Implementierung"
   ]
  },
  {
   "cell_type": "markdown",
   "metadata": {},
   "source": [
    "Nun wollen wir uns wieder an die Implementierung machen und schauen, wie sich diese Netzwerkstruktur im Vergleich zu einem **FCN** schlägt. Natürlich verwenden wir wieder PyTorch. \n"
   ]
  },
  {
   "cell_type": "markdown",
   "metadata": {},
   "source": [
    "### 2.3.1 Für das Netzwerk:"
   ]
  },
  {
   "cell_type": "markdown",
   "metadata": {},
   "source": [
    "Intuitiv würde man meinen, dass man die Notation von oben verwenden, um das Netz zu implementieren, d.h etwas in diser Richtung:"
   ]
  },
  {
   "cell_type": "code",
   "execution_count": 29,
   "metadata": {},
   "outputs": [],
   "source": [
    "import torch.nn as nn\n",
    "\n",
    "CNN = torch.nn.Sequential(\n",
    "        nn.Conv2d(1,10, kernel_size=5),\n",
    "        nn.ReLU(),\n",
    "        nn.MaxPool2d((2,2)),\n",
    "        nn.Conv2d(10,20, kernel_size=5),\n",
    "        nn.ReLU(),\n",
    "        nn.MaxPool2d((2,2)), #Hier fehlt der Übergang von Bild- zu Vektorstruktur    \n",
    "        nn.Linear(320,50),\n",
    "        nn.ReLU(),\n",
    "        nn.Linear(50,10),\n",
    "        nn.Softmax(dim=1)\n",
    "      )"
   ]
  },
  {
   "cell_type": "markdown",
   "metadata": {},
   "source": [
    "Allerdings kann so nur umständlich der Übergang von Bild- zu Vektorstruktur erreicht werden"
   ]
  },
  {
   "cell_type": "markdown",
   "metadata": {},
   "source": [
    "Daher werden wir hier noch eine andere PyTorch-Notation einführen, mit der man kompliziertere Netze aufbauen kann:"
   ]
  },
  {
   "cell_type": "code",
   "execution_count": 30,
   "metadata": {},
   "outputs": [],
   "source": [
    "import torch.nn as nn\n",
    "\n",
    "class CNN_Base(nn.Module):\n",
    "    def __init__(self):\n",
    "        super(CNN_Base,self).__init__()\n",
    "        self.conv1 = nn.Conv2d(1, 10, kernel_size=3)  # 26x26\n",
    "        self.conv2 = nn.Conv2d(10, 20, kernel_size=3) # 24x24\n",
    "        self.conv3 = nn.Conv2d(20, 30, kernel_size=3,padding=1)  # 12x12\n",
    "        self.conv4 = nn.Conv2d(30, 30, kernel_size=3,padding=1)  # 12x12\n",
    "        self.conv5 = nn.Conv2d(30, 50, kernel_size=3,padding=1) # 6x6        \n",
    "        self.conv6 = nn.Conv2d(50, 50, kernel_size=3,padding=1)# 6x6                \n",
    "        self.fc1 = nn.Linear(1800, 150)\n",
    "        self.fc2 = nn.Linear(150, 50)\n",
    "        self.fc3 = nn.Linear(50, 10)\n",
    "        self.out_act = nn.Softmax(dim=1)\n",
    "        \n",
    "    def forward(self, x):\n",
    "        x = F.leaky_relu(F.max_pool2d(self.conv2(self.conv1(x)), 2))\n",
    "        x = F.leaky_relu(F.max_pool2d(self.conv4(self.conv3(x)), 2))\n",
    "        x = F.leaky_relu(self.conv6(self.conv5(x)), 2)\n",
    "        x = x.view(-1, 1800)   #Hier ändern wir Bild- zu Vektorformat\n",
    "        x = F.leaky_relu(self.fc1(x))\n",
    "        x = F.leaky_relu(self.fc2(x))        \n",
    "        x = self.fc3(x)\n",
    "        return self.out_act(x)\n",
    "    "
   ]
  },
  {
   "cell_type": "markdown",
   "metadata": {},
   "source": [
    "Hier ist alles aufgeteilt in zwei Teile:\n",
    "Innerhalb der `__init__()`-Funktion werden alle Netzschichten initialisiert, die Gewichte besitzen (d.h. mit zufälligen Gewichten ausgestattet, ähnlich einen Lexikon verfügbarer Bauklötze.\n",
    "\n",
    "Die tatsächliche Verknüpfung findet dann in `forward()` statt, d.h. hier wird dann mit den im Lexikon zu findenden Bauklötzen das eigentliche Netzwerk aufgebaut.\n",
    "\n",
    "Das erlaubt es, sehr komplizierte Strukturen zu implementieren. Die Funktionsweise und die Verwendung im allgemeinen Programm bleibt aber die Gleiche."
   ]
  },
  {
   "cell_type": "markdown",
   "metadata": {},
   "source": [
    "### 2.3.2 Für das allgemeine Training"
   ]
  },
  {
   "cell_type": "markdown",
   "metadata": {},
   "source": [
    "Da wir nur das Netzwerk abgeändert haben, können wir einfach die **FCN**-Trainingsstruktur kopieren und einfach unser neues Netzwerk einfügen. Die einzigen Änderungen die zu beachten sind ist die Tatsache, dass die Bilder nun nicht mehr Vektoren, sondern einfach Bilder sind. Dafür müssen wir aber lediglich die `img.view(batch_size,-1)`-Zeile entfernen:"
   ]
  },
  {
   "cell_type": "code",
   "execution_count": 37,
   "metadata": {},
   "outputs": [],
   "source": [
    "import torch\n",
    "import torch.nn.functional as F\n",
    "import torch.optim as optim\n",
    "from torch.utils.data import DataLoader, Dataset\n",
    "from torch.autograd import Variable\n",
    "from PIL import Image\n",
    "import os\n",
    "import sys\n",
    "\n",
    "\"\"\" Hyperparameter \"\"\"\n",
    "batch_size = 64\n",
    "n_epochs   = 20\n",
    "learning_rate = 0.0003\n",
    "train_validation_split = 0.8\n",
    "\n",
    "\"\"\" Aufsetzen der Datengeneratoren \"\"\"\n",
    "path_to_MNIST_dataset = os.getcwd()+\"/MNIST/trainingSet\"\n",
    "\n",
    "all_image_paths, all_image_labels = get_image_paths(path_to_MNIST_dataset)\n",
    "\n",
    "np.random.seed(1)\n",
    "np.random.shuffle(all_image_paths)\n",
    "np.random.seed(1)\n",
    "np.random.shuffle(all_image_labels)\n",
    "\n",
    "split_idx = int(len(all_image_paths)*train_validation_split)\n",
    "\n",
    "training_img_paths = all_image_paths[:split_idx]\n",
    "training_labels    = all_image_labels[:split_idx]\n",
    "train_dataset = MNIST_Data_Provider(training_img_paths, training_labels)\n",
    "train_datagen = DataLoader(train_dataset, batch_size=batch_size,drop_last=True, shuffle=True, num_workers=1)\n",
    "\n",
    "validation_img_paths = all_image_paths[split_idx:]\n",
    "validation_labels    = all_image_labels[split_idx:]\n",
    "val_dataset = MNIST_Data_Provider(validation_img_paths, validation_labels)\n",
    "val_datagen = DataLoader(val_dataset, batch_size=batch_size, drop_last=True, shuffle=False, num_workers=1)"
   ]
  },
  {
   "cell_type": "code",
   "execution_count": 38,
   "metadata": {},
   "outputs": [
    {
     "name": "stdout",
     "output_type": "stream",
     "text": [
      "Training in Epoch 0...\n",
      "\t T-Progress: [101/525]\n",
      "\t T-Progress: [201/525]\n",
      "\t T-Progress: [301/525]\n",
      "\t T-Progress: [401/525]\n",
      "\t T-Progress: [501/525]\n",
      "\t V-Progress: [101/131]\n",
      "Results: T-Loss 0.02719 | T-Acc 72.2232% | V-Acc 82.9676%\n",
      "Training in Epoch 1...\n",
      "\t T-Progress: [101/525]\n",
      "\t T-Progress: [201/525]\n",
      "\t T-Progress: [301/525]\n",
      "\t T-Progress: [401/525]\n",
      "\t T-Progress: [501/525]\n",
      "\t V-Progress: [101/131]\n",
      "Results: T-Loss 0.02491 | T-Acc 86.6905% | V-Acc 94.0840%\n",
      "Training in Epoch 2...\n",
      "\t T-Progress: [101/525]\n",
      "\t T-Progress: [201/525]\n",
      "\t T-Progress: [301/525]\n",
      "\t T-Progress: [401/525]\n",
      "\t T-Progress: [501/525]\n",
      "\t V-Progress: [101/131]\n",
      "Results: T-Loss 0.02357 | T-Acc 95.2738% | V-Acc 96.1594%\n",
      "Training in Epoch 3...\n",
      "\t T-Progress: [101/525]\n",
      "\t T-Progress: [201/525]\n",
      "\t T-Progress: [301/525]\n",
      "\t T-Progress: [401/525]\n",
      "\t T-Progress: [501/525]\n",
      "\t V-Progress: [101/131]\n",
      "Results: T-Loss 0.02340 | T-Acc 96.3661% | V-Acc 96.9704%\n",
      "Training in Epoch 4...\n",
      "\t T-Progress: [101/525]\n",
      "\t T-Progress: [201/525]\n",
      "\t T-Progress: [301/525]\n",
      "\t T-Progress: [401/525]\n",
      "\t T-Progress: [501/525]\n",
      "\t V-Progress: [101/131]\n",
      "Results: T-Loss 0.02331 | T-Acc 96.9315% | V-Acc 97.2328%\n",
      "Training in Epoch 5...\n",
      "\t T-Progress: [101/525]\n",
      "\t T-Progress: [201/525]\n",
      "\t T-Progress: [301/525]\n",
      "\t T-Progress: [401/525]\n",
      "\t T-Progress: [501/525]\n",
      "\t V-Progress: [101/131]\n",
      "Results: T-Loss 0.02328 | T-Acc 97.1458% | V-Acc 97.8531%\n",
      "Training in Epoch 6...\n",
      "\t T-Progress: [101/525]\n",
      "\t T-Progress: [201/525]\n",
      "\t T-Progress: [301/525]\n",
      "\t T-Progress: [401/525]\n",
      "\t T-Progress: [501/525]\n",
      "\t V-Progress: [101/131]\n",
      "Results: T-Loss 0.02324 | T-Acc 97.4315% | V-Acc 97.1374%\n",
      "Training in Epoch 7...\n",
      "\t T-Progress: [101/525]\n",
      "\t T-Progress: [201/525]\n",
      "\t T-Progress: [301/525]\n",
      "\t T-Progress: [401/525]\n",
      "\t T-Progress: [501/525]\n",
      "\t V-Progress: [101/131]\n",
      "Results: T-Loss 0.02321 | T-Acc 97.5804% | V-Acc 97.6026%\n",
      "Training in Epoch 8...\n",
      "\t T-Progress: [101/525]\n",
      "\t T-Progress: [201/525]\n",
      "\t T-Progress: [301/525]\n",
      "\t T-Progress: [401/525]\n",
      "\t T-Progress: [501/525]\n",
      "\t V-Progress: [101/131]\n",
      "Results: T-Loss 0.02321 | T-Acc 97.5357% | V-Acc 97.8650%\n",
      "Training in Epoch 9...\n",
      "\t T-Progress: [101/525]\n",
      "\t T-Progress: [201/525]\n",
      "\t T-Progress: [301/525]\n",
      "\t T-Progress: [401/525]\n",
      "\t T-Progress: [501/525]\n",
      "\t V-Progress: [101/131]\n",
      "Results: T-Loss 0.02319 | T-Acc 97.7202% | V-Acc 97.5668%\n",
      "Training in Epoch 10...\n",
      "\t T-Progress: [101/525]\n",
      "\t T-Progress: [201/525]\n",
      "\t T-Progress: [301/525]\n",
      "\t T-Progress: [401/525]\n",
      "\t T-Progress: [501/525]\n",
      "\t V-Progress: [101/131]\n",
      "Results: T-Loss 0.02318 | T-Acc 97.7321% | V-Acc 97.9843%\n",
      "Training in Epoch 11...\n",
      "\t T-Progress: [101/525]\n",
      "\t T-Progress: [201/525]\n",
      "\t T-Progress: [301/525]\n",
      "\t T-Progress: [401/525]\n",
      "\t T-Progress: [501/525]\n",
      "\t V-Progress: [101/131]\n",
      "Results: T-Loss 0.02318 | T-Acc 97.7827% | V-Acc 97.9604%\n",
      "Training in Epoch 12...\n",
      "\t T-Progress: [101/525]\n",
      "\t T-Progress: [201/525]\n",
      "\t T-Progress: [301/525]\n",
      "\t T-Progress: [401/525]\n",
      "\t T-Progress: [501/525]\n",
      "\t V-Progress: [101/131]\n",
      "Results: T-Loss 0.02315 | T-Acc 97.9911% | V-Acc 97.2328%\n",
      "Training in Epoch 13...\n",
      "\t T-Progress: [101/525]\n",
      "\t T-Progress: [201/525]\n"
     ]
    },
    {
     "name": "stderr",
     "output_type": "stream",
     "text": [
      "Process Process-37:\n",
      "KeyboardInterrupt\n",
      "Traceback (most recent call last):\n",
      "  File \"/home/karsten_dl/software/miniconda3/envs/D4L/lib/python3.6/multiprocessing/process.py\", line 258, in _bootstrap\n",
      "    self.run()\n",
      "  File \"/home/karsten_dl/software/miniconda3/envs/D4L/lib/python3.6/multiprocessing/process.py\", line 93, in run\n",
      "    self._target(*self._args, **self._kwargs)\n"
     ]
    },
    {
     "ename": "KeyboardInterrupt",
     "evalue": "",
     "output_type": "error",
     "traceback": [
      "\u001b[0;31m---------------------------------------------------------------------------\u001b[0m",
      "\u001b[0;31mKeyboardInterrupt\u001b[0m                         Traceback (most recent call last)",
      "\u001b[0;32m<ipython-input-38-d59d9b59b25e>\u001b[0m in \u001b[0;36m<module>\u001b[0;34m\u001b[0m\n\u001b[1;32m     33\u001b[0m         \u001b[0moptimizer\u001b[0m\u001b[0;34m.\u001b[0m\u001b[0mstep\u001b[0m\u001b[0;34m(\u001b[0m\u001b[0;34m)\u001b[0m\u001b[0;34m\u001b[0m\u001b[0;34m\u001b[0m\u001b[0m\n\u001b[1;32m     34\u001b[0m \u001b[0;34m\u001b[0m\u001b[0m\n\u001b[0;32m---> 35\u001b[0;31m         \u001b[0mcorrect_guesses\u001b[0m \u001b[0;34m=\u001b[0m \u001b[0moutput\u001b[0m\u001b[0;34m.\u001b[0m\u001b[0mcpu\u001b[0m\u001b[0;34m(\u001b[0m\u001b[0;34m)\u001b[0m\u001b[0;34m.\u001b[0m\u001b[0mdetach\u001b[0m\u001b[0;34m(\u001b[0m\u001b[0;34m)\u001b[0m\u001b[0;34m.\u001b[0m\u001b[0mmax\u001b[0m\u001b[0;34m(\u001b[0m\u001b[0;36m1\u001b[0m\u001b[0;34m)\u001b[0m\u001b[0;34m[\u001b[0m\u001b[0;36m1\u001b[0m\u001b[0;34m]\u001b[0m\u001b[0;34m.\u001b[0m\u001b[0meq\u001b[0m\u001b[0;34m(\u001b[0m\u001b[0mlabel\u001b[0m\u001b[0;34m.\u001b[0m\u001b[0mcpu\u001b[0m\u001b[0;34m(\u001b[0m\u001b[0;34m)\u001b[0m\u001b[0;34m.\u001b[0m\u001b[0mdetach\u001b[0m\u001b[0;34m(\u001b[0m\u001b[0;34m)\u001b[0m\u001b[0;34m)\u001b[0m\u001b[0;34m.\u001b[0m\u001b[0msum\u001b[0m\u001b[0;34m(\u001b[0m\u001b[0;34m)\u001b[0m\u001b[0;34m\u001b[0m\u001b[0;34m\u001b[0m\u001b[0m\n\u001b[0m\u001b[1;32m     36\u001b[0m \u001b[0;34m\u001b[0m\u001b[0m\n\u001b[1;32m     37\u001b[0m         \u001b[0mtrain_avg_loss\u001b[0m \u001b[0;34m+=\u001b[0m \u001b[0mloss\u001b[0m\u001b[0;34m.\u001b[0m\u001b[0mdata\u001b[0m\u001b[0;34m.\u001b[0m\u001b[0mitem\u001b[0m\u001b[0;34m(\u001b[0m\u001b[0;34m)\u001b[0m\u001b[0;34m\u001b[0m\u001b[0;34m\u001b[0m\u001b[0m\n",
      "\u001b[0;31mKeyboardInterrupt\u001b[0m: "
     ]
    },
    {
     "name": "stderr",
     "output_type": "stream",
     "text": [
      "  File \"/home/karsten_dl/software/miniconda3/envs/D4L/lib/python3.6/site-packages/torch/utils/data/dataloader.py\", line 106, in _worker_loop\n",
      "    samples = collate_fn([dataset[i] for i in batch_indices])\n",
      "  File \"/home/karsten_dl/software/miniconda3/envs/D4L/lib/python3.6/site-packages/torch/utils/data/dataloader.py\", line 106, in <listcomp>\n",
      "    samples = collate_fn([dataset[i] for i in batch_indices])\n",
      "  File \"<ipython-input-7-eddb99f54dee>\", line 38, in __getitem__\n",
      "    loaded_image    = Image.open(self.all_image_paths[idx])\n",
      "  File \"/home/karsten_dl/software/miniconda3/envs/D4L/lib/python3.6/site-packages/PIL/Image.py\", line 2618, in open\n",
      "    prefix = fp.read(16)\n"
     ]
    }
   ],
   "source": [
    "\"\"\" Laden des Netzes, Aufsetzen des Optimierers\"\"\"\n",
    "CNN = CNN_Base()\n",
    "device = torch.device('cpu')\n",
    "# ### Falls eine GPU verwendet wird:\n",
    "# device = torch.device('cuda')\n",
    "_ = CNN.to(device)\n",
    "#optimizer = optim.SGD(FCN.parameters(), lr=learning_rate)\n",
    "optimizer = optim.Adam(CNN.parameters(), lr=learning_rate)\n",
    "\n",
    "\n",
    "\"\"\" Training & Validierung \"\"\"\n",
    "for epoch in range(n_epochs):\n",
    "    print(\"Training in Epoch {}...\".format(epoch))\n",
    "    \n",
    "    \"\"\" Hier startet das Training! \"\"\"\n",
    "    #FCN.train()\n",
    "    CNN.train()\n",
    "    \n",
    "    train_avg_loss = 0\n",
    "    train_avg_acc  = 0\n",
    "    \n",
    "    data_coll = {\"t_acc\":[], \"v_acc\":[]}\n",
    "    for idx, (img,label) in enumerate(train_datagen):\n",
    "        img, label = img.to(device), label.to(device)\n",
    "        \n",
    "        optimizer.zero_grad()\n",
    "        #output = FCN(img.view(batch_size,-1))\n",
    "        output = CNN(img)\n",
    "        \n",
    "        loss = F.cross_entropy(output, label)\n",
    "        \n",
    "        loss.backward()\n",
    "        optimizer.step()\n",
    "        \n",
    "        correct_guesses = output.cpu().detach().max(1)[1].eq(label.cpu().detach()).sum()\n",
    "        \n",
    "        train_avg_loss += loss.data.item()\n",
    "        train_avg_acc  += correct_guesses.numpy()\n",
    "        \n",
    "        if idx%100==0 and idx!=0:\n",
    "            print(\"\\t T-Progress: [{}/{}]\\r\".format(idx+1,len(train_datagen)))\n",
    "\n",
    "    train_avg_loss = train_avg_loss*1./(batch_size*len(train_datagen))\n",
    "    train_avg_acc  = train_avg_acc*1./(batch_size*len(train_datagen))\n",
    "    \n",
    "    data_coll[\"t_acc\"].append(train_avg_acc)\n",
    "    \n",
    "    \n",
    "    \"\"\" Hier startet die Validierung \"\"\"\n",
    "    #FCN.eval()\n",
    "    CNN.eval()\n",
    "    \n",
    "    with torch.no_grad():\n",
    "        val_avg_acc = 0\n",
    "\n",
    "        for idx, (img,label) in enumerate(val_datagen):\n",
    "            img, label = img.to(device), label.to(device)\n",
    "            #output = FCN(img.view(batch_size,-1))\n",
    "            output = CNN(img)\n",
    "            correct_guesses = output.cpu().detach().max(1)[1].eq(label.cpu().detach()).sum()\n",
    "\n",
    "            val_avg_acc  += correct_guesses.numpy()\n",
    "\n",
    "            if idx%100==0 and idx!=0:\n",
    "                print(\"\\t V-Progress: [{}/{}]\\r\".format(idx+1,len(val_datagen)))    \n",
    "\n",
    "        val_avg_acc = val_avg_acc*1./(batch_size*len(val_datagen))\n",
    "        data_coll[\"v_acc\"].append(val_avg_acc)    \n",
    "        print(\"Results: T-Loss {0:2.5f} | T-Acc {1:3.4f}% | V-Acc {2:3.4f}%\".format(train_avg_loss, train_avg_acc*100., val_avg_acc*100.))"
   ]
  },
  {
   "cell_type": "markdown",
   "metadata": {},
   "source": [
    "Damit haben wir nun ein weiteres Werkzeug eingeführt, um Bilderkennung zu implementieren.\n",
    "\n",
    "Generell ist es so, dass Netzwerk-Strukturen je nach Bedarf und Zweck entsprechend abgeändert werden. Generell gilt aber: Je tiefer das Netzwerk, desto ausdrucksstärker ist es, aber desto länger, komplizierter und anspruchsvoller ist es, dieses zu sinnvollen Werten trainiert zu bekommen."
   ]
  },
  {
   "cell_type": "markdown",
   "metadata": {},
   "source": [
    "---"
   ]
  },
  {
   "cell_type": "markdown",
   "metadata": {},
   "source": [
    "### 2.3.3 Aufgaben"
   ]
  },
  {
   "cell_type": "markdown",
   "metadata": {},
   "source": [
    "#### 1. Aufgabe"
   ]
  },
  {
   "cell_type": "markdown",
   "metadata": {},
   "source": [
    "Visualisier auch hier das Trainingverhalten. Vergleiche dies mit der **FCN**-Struktur von oben. Idealerweise werden beide Trainingskurven in ein Diagramm geplottet!"
   ]
  },
  {
   "cell_type": "markdown",
   "metadata": {},
   "source": [
    "#### 2. Aufgabe"
   ]
  },
  {
   "cell_type": "markdown",
   "metadata": {},
   "source": [
    "Ändere etwas an der Struktur oder dem Optimierungsalgorithmus ab um höhere Ergebnisse erzielt zu bekommen. Wie immer ist die PyTorch-Homepage dein Freund!"
   ]
  },
  {
   "cell_type": "markdown",
   "metadata": {},
   "source": [
    "#### 3. Aufgabe"
   ]
  },
  {
   "cell_type": "markdown",
   "metadata": {},
   "source": [
    "Vergleiche die Anzahl der Paramter zwischen **FCN** und **CNN**. Verwende dazu folgenden Funktion:"
   ]
  },
  {
   "cell_type": "code",
   "execution_count": 20,
   "metadata": {
    "collapsed": true
   },
   "outputs": [],
   "source": [
    "def find_num_parameters(net):\n",
    "    net_parameters = filter(lambda p: p.requires_grad, net.parameters())\n",
    "    num_params = sum([np.prod(p.size()) for p in net_parameters])\n",
    "    return num_params"
   ]
  },
  {
   "cell_type": "markdown",
   "metadata": {},
   "source": [
    "---"
   ]
  },
  {
   "cell_type": "markdown",
   "metadata": {},
   "source": [
    "**Damit haben wie die Grundlagen zu neuronalen Netzen abgeschlossen!**\n",
    "\n",
    "Im nächsten Einführungsteil wollen wir uns noch mit Methoden auseinandersetzen, die das Generalisierungsverhalten und das allgemeine Training zu verbessern. Darauffolgend implementieren wir ein Netzwerk um Leber aus CT-Bildern zu segmentieren!"
   ]
  }
 ],
 "metadata": {
  "anaconda-cloud": {},
  "kernelspec": {
   "display_name": "biomathe",
   "language": "python",
   "name": "biomathe"
  },
  "language_info": {
   "codemirror_mode": {
    "name": "ipython",
    "version": 3
   },
   "file_extension": ".py",
   "mimetype": "text/x-python",
   "name": "python",
   "nbconvert_exporter": "python",
   "pygments_lexer": "ipython3",
   "version": "3.6.8"
  }
 },
 "nbformat": 4,
 "nbformat_minor": 1
}
